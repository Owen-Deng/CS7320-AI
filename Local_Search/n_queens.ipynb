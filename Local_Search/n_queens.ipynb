{
  "cells": [
    {
      "cell_type": "markdown",
      "metadata": {
        "id": "VJrFs0vFGdZq"
      },
      "source": [
        "# Solving the n-Queens Problem using Local Search\n",
        "\n",
        "Student Name: Chuanqi Deng\n",
        "\n",
        "I have used the following AI tools: ChatGPT\n",
        "\n",
        "I understand that my submission needs to be my own work: CD\n",
        "\n",
        "## Instructions\n",
        "\n",
        "Total Points: Undergrads 100 + 5 bonus / Graduate students 110\n",
        "\n",
        "Complete this notebook. Use the provided notebook cells and insert additional code and markdown cells as needed. Submit the completely rendered notebook as a HTML file.\n"
      ]
    },
    {
      "cell_type": "markdown",
      "metadata": {
        "id": "QC4ajTRSGdZs"
      },
      "source": [
        "## The n-Queens Problem\n",
        "\n",
        "* __Goal:__ Find an arrangement of $n$ queens on a $n \\times n$ chess board so that no queen is on the same row, column or diagonal as any other queen.\n",
        "\n",
        "* __State space:__ An arrangement of the queens on the board. We restrict the state space to arrangements where there is only a single queen per column. We represent a state as an integer vector $\\mathbf{q} = \\{q_1, q_2, \\dots, q_n\\}$, each number representing the row positions of the queens from left to right. We will call a state a \"board.\"\n",
        "\n",
        "* __Objective function:__ The number of pairwise conflicts (i.e., two queens in the same row/column/diagonal).\n",
        "The optimization problem is to find the optimal arrangement $\\mathbf{q}^*$ of $n$ queens on the board can be written as:\n",
        "\n",
        "  > minimize: $\\mathrm{conflicts}(\\mathbf{q})$\n",
        "  >\n",
        "  > subject to: $\\mathbf{q} \\ \\text{contains only one queen per column}$\n",
        "\n",
        "  Note: the constraint (subject to) is enforced by the definition of the state space.\n",
        "\n",
        "* __Local improvement move:__ Move one queen to a different row in its column.\n",
        "\n",
        "* __Termination:__ For this problem there is always an arrangement $\\mathbf{q}^*$ with $\\mathrm{conflicts}(\\mathbf{q}^*) = 0$, however, the local improvement moves might end up in a local minimum."
      ]
    },
    {
      "cell_type": "markdown",
      "metadata": {
        "id": "b0nkilscGdZt"
      },
      "source": [
        "## Helper functions"
      ]
    },
    {
      "cell_type": "code",
      "execution_count": 1,
      "metadata": {
        "id": "rxcfLTcgGdZt"
      },
      "outputs": [],
      "source": [
        "import time\n",
        "import math\n",
        "\n",
        "import matplotlib.pyplot as plt\n",
        "import numpy as np\n",
        "import pandas as pd\n",
        "from matplotlib import colors\n",
        "from IPython.display import display\n",
        "\n",
        "np.random.seed(1234)\n",
        "\n",
        "\n",
        "def random_board(n):\n",
        "    \"\"\"Creates a random board of size n x n. Note that only a single queen is placed in each column!\"\"\"\n",
        "\n",
        "    return(np.random.randint(0,n, size = n))\n",
        "\n",
        "def comb2(n): return n*(n-1)//2 # this is n choose 2 equivalent to math.comb(n, 2); // is int division\n",
        "\n",
        "def conflicts(board):\n",
        "    \"\"\"Calculate the number of conflicts, i.e., the objective function.\"\"\"\n",
        "\n",
        "    n = len(board)\n",
        "\n",
        "    horizontal_cnt = [0] * n\n",
        "    diagonal1_cnt = [0] * 2 * n\n",
        "    diagonal2_cnt = [0] * 2 * n\n",
        "\n",
        "    for i in range(n):\n",
        "        horizontal_cnt[board[i]] += 1\n",
        "        diagonal1_cnt[i + board[i]] += 1\n",
        "        diagonal2_cnt[i - board[i] + n] += 1\n",
        "\n",
        "    return sum(map(comb2, horizontal_cnt + diagonal1_cnt + diagonal2_cnt))\n",
        "\n",
        "# decrease the font size to fit larger boards\n",
        "def show_board(board, cols = ['white', 'gray'], fontsize = 48):\n",
        "    \"\"\"display the board\"\"\"\n",
        "\n",
        "    n = len(board)\n",
        "\n",
        "    # create chess board display\n",
        "    display = np.zeros([n,n])\n",
        "    for i in range(n):\n",
        "        for j in range(n):\n",
        "            if (((i+j) % 2) != 0):\n",
        "                display[i,j] = 1\n",
        "\n",
        "    cmap = colors.ListedColormap(cols)\n",
        "    fig, ax = plt.subplots()\n",
        "    ax.imshow(display, cmap = cmap,\n",
        "              norm = colors.BoundaryNorm(range(len(cols)+1), cmap.N))\n",
        "    ax.set_xticks([])\n",
        "    ax.set_yticks([])\n",
        "\n",
        "    # place queens. Note: Unicode u265B is a black queen\n",
        "    for j in range(n):\n",
        "        plt.text(j, board[j], u\"\\u265B\", fontsize = fontsize,\n",
        "                 horizontalalignment = 'center',\n",
        "                 verticalalignment = 'center')\n",
        "\n",
        "    print(f\"Board with {conflicts(board)} conflicts.\")\n",
        "    plt.show()"
      ]
    },
    {
      "cell_type": "markdown",
      "metadata": {
        "id": "fg4WVj2_GdZu"
      },
      "source": [
        "## Create a board"
      ]
    },
    {
      "cell_type": "code",
      "execution_count": 2,
      "metadata": {
        "id": "XOdA8qz9GdZu",
        "outputId": "bd1cde8b-83ab-45f4-99c6-1e9490a4221d"
      },
      "outputs": [
        {
          "name": "stdout",
          "output_type": "stream",
          "text": [
            "Board with 4 conflicts.\n"
          ]
        },
        {
          "data": {
            "image/png": "[encoded data removed]",
            "text/plain": [
              "<Figure size 640x480 with 1 Axes>"
            ]
          },
          "metadata": {},
          "output_type": "display_data"
        },
        {
          "name": "stdout",
          "output_type": "stream",
          "text": [
            "Queens (left to right) are at rows: [3 3 2 1]\n",
            "Number of conflicts: 4\n"
          ]
        }
      ],
      "source": [
        "board = random_board(4)\n",
        "\n",
        "show_board(board)\n",
        "print(f\"Queens (left to right) are at rows: {board}\")\n",
        "print(f\"Number of conflicts: {conflicts(board)}\")"
      ]
    },
    {
      "cell_type": "markdown",
      "metadata": {
        "id": "dRnF5EoIGdZu"
      },
      "source": [
        "A board $4 \\times 4$ with no conflicts:"
      ]
    },
    {
      "cell_type": "code",
      "execution_count": 3,
      "metadata": {
        "id": "2nD9ivwtGdZv",
        "outputId": "11a8b8e2-d792-4e76-f276-31ca580ff4e7"
      },
      "outputs": [
        {
          "name": "stdout",
          "output_type": "stream",
          "text": [
            "Board with 0 conflicts.\n"
          ]
        },
        {
          "data": {
            "image/png": "[encoded data removed]",
            "text/plain": [
              "<Figure size 640x480 with 1 Axes>"
            ]
          },
          "metadata": {},
          "output_type": "display_data"
        }
      ],
      "source": [
        "board = [1,3,0,2]\n",
        "show_board(board)"
      ]
    },
    {
      "cell_type": "markdown",
      "metadata": {
        "id": "_H6yit9FGdZv"
      },
      "source": [
        "# Tasks\n",
        "\n",
        "## General [10 Points]\n",
        "\n",
        "1. Make sure that you use the latest version of this notebook. Sync your forked repository and pull the latest revision.\n",
        "2. Your implementation can use libraries like math, numpy, scipy, but not libraries that implement intelligent agents or complete search algorithms. Try to keep the code simple! In this course, we want to learn about the algorithms and we often do not need to use object-oriented design.\n",
        "3. You notebook needs to be formatted professionally.\n",
        "    - Add additional markdown blocks for your description, comments in the code, add tables and use mathplotlib to produce charts where appropriate\n",
        "    - Do not show debugging output or include an excessive amount of output.\n",
        "    - Check that your PDF file is readable. For example, long lines are cut off in the PDF file. You don't have control over page breaks, so do not worry about these.\n",
        "4. Document your code. Add a short discussion of how your implementation works and your design choices."
      ]
    },
    {
      "cell_type": "markdown",
      "metadata": {
        "id": "oaXSRU56GdZv"
      },
      "source": [
        "## Task 1: Steepest-ascend Hill Climbing Search [30 Points]\n",
        "\n",
        "Calculate the objective function for all local moves (see definition of local moves above) and always choose the best among all local moves. If there are no local moves that improve the objective, then you have reached a local optimum."
      ]
    },
    {
      "cell_type": "code",
      "execution_count": 4,
      "metadata": {
        "id": "wwSqhnIjGdZv"
      },
      "outputs": [
        {
          "name": "stdout",
          "output_type": "stream",
          "text": [
            "Board with 0 conflicts.\n"
          ]
        },
        {
          "data": {
            "image/png": "[encoded data removed]",
            "text/plain": [
              "<Figure size 640x480 with 1 Axes>"
            ]
          },
          "metadata": {},
          "output_type": "display_data"
        }
      ],
      "source": [
        "# Code and description go here\n",
        "def all_conflicts(board):\n",
        "    \"\"\"return a matrix showing all conficts\"\"\"\n",
        "    n = len(board)\n",
        "    values = np.empty((n,n)) # 2D array for saving all conflict values\n",
        "    for col in range(n):\n",
        "        for row in range(n):\n",
        "            board = board.copy()# avoid changing the original board\n",
        "            board[col] = row\n",
        "            values[row][col] = conflicts(board)\n",
        "    return values\n",
        "\n",
        "def find_best_move(board:list, random=False):\n",
        "    \"\"\"return a board after choose the best local move, and the conflict number after move\"\"\"\n",
        "    values = all_conflicts(board)\n",
        "            \n",
        "    # find the minimum positions\n",
        "    min_conflict_val = np.min(values)\n",
        "    min_indices = np.where(values==min_conflict_val)\n",
        "    \n",
        "    # find one minium posittion\n",
        "    idx = np.random.randint(0, min_indices[0].shape[0]) if random else 0\n",
        "    min_row_idx, min_col_idx = min_indices[0][idx], min_indices[1][idx]\n",
        "    \n",
        "    # change the board to the position\n",
        "    board = board.copy() # avoid changing the original board\n",
        "    board[min_col_idx] = min_row_idx\n",
        "    return board, values[min_row_idx][min_col_idx]\n",
        "    \n",
        "\n",
        "def steepest_ascend_hill_climbing(board):\n",
        "    \"\"\"Return a board by chosing smallest conflict move each iteration.\"\"\"\n",
        "    cur_conflict_val = conflicts(board)\n",
        "    while True:\n",
        "        less_conflicted_board, less_confilict_val = find_best_move(board)\n",
        "        if less_confilict_val >= cur_conflict_val:\n",
        "            return board # return if found local minimum\n",
        "        \n",
        "        # update board and conflict values \n",
        "        board = less_conflicted_board\n",
        "        cur_conflict_val = less_confilict_val\n",
        "\n",
        "\n",
        "show_board(steepest_ascend_hill_climbing(board))"
      ]
    },
    {
      "cell_type": "markdown",
      "metadata": {
        "id": "exoOBptjGdZv"
      },
      "source": [
        "## Task 2: Stochastic Hill Climbing 1 [10 Points]\n",
        "\n",
        "Chooses randomly from among all uphill moves till you have reached a local optimum."
      ]
    },
    {
      "cell_type": "code",
      "execution_count": 5,
      "metadata": {
        "id": "sKypcqjTGdZv"
      },
      "outputs": [
        {
          "name": "stdout",
          "output_type": "stream",
          "text": [
            "Board with 0 conflicts.\n"
          ]
        },
        {
          "data": {
            "image/png": "[encoded data removed]",
            "text/plain": [
              "<Figure size 640x480 with 1 Axes>"
            ]
          },
          "metadata": {},
          "output_type": "display_data"
        }
      ],
      "source": [
        "\n",
        "# Code and description go here\n",
        "def find_random_uphill_move(board:list, cur_conflict_val):\n",
        "    \"\"\"return a board after choose the best local move, and the conflict number after move\"\"\"\n",
        "    values = all_conflicts(board)\n",
        "    \n",
        "    # find the uphill positions\n",
        "    uphill_indices = np.where(values < cur_conflict_val)\n",
        "    if uphill_indices[0].shape[0] == 0:\n",
        "        return board, cur_conflict_val # no uphill move found\n",
        "    \n",
        "    # find one uphill position\n",
        "    random_idx = np.random.randint(0, uphill_indices[0].shape[0])\n",
        "    uphill_row_idx, uphill_col_idx = uphill_indices[0][random_idx], uphill_indices[1][random_idx]\n",
        "    \n",
        "    # change the board to the position\n",
        "    board = board.copy() # avoid changing the original board\n",
        "    board[uphill_col_idx] = uphill_row_idx\n",
        "    return board, values[uphill_row_idx][uphill_col_idx]\n",
        "\n",
        "def stochastic_hill_climbing(board):\n",
        "    \"\"\"Return a board by chosing a random conflict move each iteration.\"\"\"\n",
        "    cur_conflict_val = conflicts(board)\n",
        "    while True:\n",
        "        less_conflicted_board, less_confilict_val = find_random_uphill_move(board, cur_conflict_val)\n",
        "        if less_confilict_val >= cur_conflict_val:\n",
        "            return board # return if found local minimum\n",
        "        \n",
        "        # update board and conflict values \n",
        "        board = less_conflicted_board\n",
        "        cur_conflict_val = less_confilict_val\n",
        "\n",
        "\n",
        "show_board(stochastic_hill_climbing(board))"
      ]
    },
    {
      "cell_type": "markdown",
      "metadata": {
        "id": "L0u8T1eEGdZw"
      },
      "source": [
        "## Task 3: Stochastic Hill Climbing 2 [20 Points]\n",
        "\n",
        "A popular version of stochastic hill climbing generates only a single random local neighbor at a time and accept it if it has a better objective function value than the current state. This is very efficient if each state has many possible successor states. This method is called \"First-choice hill climbing\" in the textbook.\n",
        "\n",
        "__Notes:__\n",
        "\n",
        "* Detecting local optima is tricky! You can, for example, stop if you were not able to improve the objective function during the last $x$ tries."
      ]
    },
    {
      "cell_type": "code",
      "execution_count": 6,
      "metadata": {
        "id": "7C8haFEHGdZw"
      },
      "outputs": [
        {
          "name": "stdout",
          "output_type": "stream",
          "text": [
            "Board with 3 conflicts.\n"
          ]
        },
        {
          "data": {
            "image/png": "[encoded data removed]",
            "text/plain": [
              "<Figure size 640x480 with 1 Axes>"
            ]
          },
          "metadata": {},
          "output_type": "display_data"
        }
      ],
      "source": [
        "# Code and description go here\n",
        "def find_random_neighbor(board):\n",
        "    \"\"\"Find a random neighbor of give board\"\"\"\n",
        "    n = len(board)\n",
        "    while True:\n",
        "        col = np.random.randint(n)\n",
        "        row = np.random.randint(n)\n",
        "        if row != board[col]:\n",
        "            break\n",
        "        # didn't move, continue to pick a random position\n",
        "        \n",
        "    new_board = board.copy()\n",
        "    new_board[col] = row\n",
        "    return new_board\n",
        "\n",
        "\n",
        "def stochastic_hill_climbing_2(board, local_move_funcs = [find_random_neighbor], try_cnt=50):\n",
        "    \"\"\"Return a board by chosing a neighbor of given board at most <try_cnt> time.\"\"\"\n",
        "    cur_conflict_val = conflicts(board)\n",
        "    for _ in range(try_cnt):\n",
        "        new_board = board\n",
        "        \n",
        "        # for custom local move functions in \"Advanced task\" at the end of notebook\n",
        "        for local_move_func in local_move_funcs:\n",
        "            new_board = local_move_func(new_board)\n",
        "        \n",
        "        new_board_conflict_val = conflicts(new_board)\n",
        "        if new_board_conflict_val == 0: \n",
        "            break # optimal\n",
        "        if new_board_conflict_val < cur_conflict_val:\n",
        "            # update board and conflict values \n",
        "            board = new_board\n",
        "            cur_conflict_val = new_board_conflict_val\n",
        "    \n",
        "    return new_board\n",
        "\n",
        "show_board(stochastic_hill_climbing_2(board))"
      ]
    },
    {
      "cell_type": "markdown",
      "metadata": {
        "id": "-_arvH8SGdZw"
      },
      "source": [
        "## Task 4: Hill Climbing Search with Random Restarts [10 Points]\n",
        "\n",
        "Hill climbing will often end up in local optima. Restart the each of the three hill climbing algorithm up to 100 times with a random board to find a better (hopefully optimal) solution. Note that restart just means to run the algorithm several times starting with a new random board."
      ]
    },
    {
      "cell_type": "code",
      "execution_count": 7,
      "metadata": {
        "id": "-xg4ie9PGdZw"
      },
      "outputs": [
        {
          "name": "stdout",
          "output_type": "stream",
          "text": [
            "Board with 0 conflicts.\n"
          ]
        },
        {
          "data": {
            "image/png": "[encoded data removed]",
            "text/plain": [
              "<Figure size 640x480 with 1 Axes>"
            ]
          },
          "metadata": {},
          "output_type": "display_data"
        },
        {
          "name": "stdout",
          "output_type": "stream",
          "text": [
            "Board with 0 conflicts.\n"
          ]
        },
        {
          "data": {
            "image/png": "[encoded data removed]",
            "text/plain": [
              "<Figure size 640x480 with 1 Axes>"
            ]
          },
          "metadata": {},
          "output_type": "display_data"
        },
        {
          "name": "stdout",
          "output_type": "stream",
          "text": [
            "Board with 0 conflicts.\n"
          ]
        },
        {
          "data": {
            "image/png": "[encoded data removed]",
            "text/plain": [
              "<Figure size 640x480 with 1 Axes>"
            ]
          },
          "metadata": {},
          "output_type": "display_data"
        }
      ],
      "source": [
        "# Code and description go here\n",
        "\n",
        "def hill_climbing_random_restart(func, n, times=100):\n",
        "    min_conflict = float('inf')\n",
        "    min_conflict_board = None\n",
        "    for _ in range(times):\n",
        "        board = random_board(n)\n",
        "        result_board = func(board) # call the search function\n",
        "        conflict_val = conflicts(result_board)\n",
        "        \n",
        "        if conflict_val < min_conflict: # save the best result\n",
        "            min_conflict = conflict_val\n",
        "            min_conflict_board = result_board\n",
        "    \n",
        "    return min_conflict_board\n",
        "\n",
        "\n",
        "n = 4\n",
        "show_board(hill_climbing_random_restart(steepest_ascend_hill_climbing, n))\n",
        "show_board(hill_climbing_random_restart(stochastic_hill_climbing, n))\n",
        "show_board(hill_climbing_random_restart(stochastic_hill_climbing_2, n))"
      ]
    },
    {
      "cell_type": "markdown",
      "metadata": {
        "id": "3u-8qcEYGdZw"
      },
      "source": [
        "## Task 5: Simulated Annealing [10 Points]\n",
        "\n",
        "Simulated annealing is a form of stochastic hill climbing that avoid local optima by also allowing downhill moves with a probability proportional to a temperature. The temperature is decreased in every iteration following an annealing schedule. You have to experiment with the annealing schedule (Google to find guidance on this).\n",
        "\n",
        "\n",
        "1. Implement simulated annealing for the n-Queens problem.\n",
        "2. Compare the performance with the previous algorithms.\n",
        "2. Discuss your choice of annealing schedule."
      ]
    },
    {
      "cell_type": "code",
      "execution_count": 8,
      "metadata": {
        "id": "Jh9VPGUTGdZw"
      },
      "outputs": [
        {
          "name": "stdout",
          "output_type": "stream",
          "text": [
            "Board with 0 conflicts.\n"
          ]
        },
        {
          "data": {
            "image/png": "[encoded data removed]",
            "text/plain": [
              "<Figure size 640x480 with 1 Axes>"
            ]
          },
          "metadata": {},
          "output_type": "display_data"
        }
      ],
      "source": [
        "# Code and description go here\n",
        "def classic_simulated_annealing(t, t0 = 1, max_epoch = 100):\n",
        "    if t == max_epoch: return 0\n",
        "    return t0 * 1/math.log10(1+t)\n",
        "    \n",
        "def fast_simulated_annealing(t, t0 = 1, max_epoch = 100):\n",
        "    if t == max_epoch: return 0\n",
        "    return t0 * 1/(1+t)\n",
        "\n",
        "def exponential_cooling(t, t0 = 1, alfa = 0.8, max_epoch = 100):\n",
        "    if t == max_epoch: return 0\n",
        "    return t0 * (alfa ** t)\n",
        "    \n",
        "def simulated_annealing(board, schedule_func = fast_simulated_annealing):\n",
        "    t = 0\n",
        "    current = board.copy()\n",
        "    current_conflicts = conflicts(current)\n",
        "    while True:\n",
        "        t += 1\n",
        "        T = schedule_func(t)\n",
        "        if T == 0: return current\n",
        "        next = find_random_neighbor(current)\n",
        "        next_conflicts = conflicts(next)\n",
        "        delta_E = current_conflicts - next_conflicts\n",
        "\n",
        "        if delta_E > 0: \n",
        "            current = next\n",
        "            current_conflicts = next_conflicts\n",
        "        else:\n",
        "            prob = math.exp(delta_E/T)\n",
        "            if np.random.rand() < prob:\n",
        "                current = next\n",
        "                current_conflicts = next_conflicts\n",
        "\n",
        "show_board(simulated_annealing(board))"
      ]
    },
    {
      "cell_type": "code",
      "execution_count": 19,
      "metadata": {},
      "outputs": [
        {
          "data": {
            "text/html": [
              "<div>\n",
              "<style scoped>\n",
              "    .dataframe tbody tr th:only-of-type {\n",
              "        vertical-align: middle;\n",
              "    }\n",
              "\n",
              "    .dataframe tbody tr th {\n",
              "        vertical-align: top;\n",
              "    }\n",
              "\n",
              "    .dataframe thead th {\n",
              "        text-align: right;\n",
              "    }\n",
              "</style>\n",
              "<table border=\"1\" class=\"dataframe\">\n",
              "  <thead>\n",
              "    <tr style=\"text-align: right;\">\n",
              "      <th></th>\n",
              "      <th>Algorithm</th>\n",
              "      <th>Board size</th>\n",
              "      <th>Avg. Run time</th>\n",
              "      <th>Avg. number of conflicts</th>\n",
              "      <th>% of runs ending in optimal solution</th>\n",
              "    </tr>\n",
              "  </thead>\n",
              "  <tbody>\n",
              "    <tr>\n",
              "      <th>0</th>\n",
              "      <td>Steepest asc. HC</td>\n",
              "      <td>4</td>\n",
              "      <td>0.000240</td>\n",
              "      <td>1.99</td>\n",
              "      <td>10.0</td>\n",
              "    </tr>\n",
              "    <tr>\n",
              "      <th>1</th>\n",
              "      <td>Stochastic HC 1</td>\n",
              "      <td>4</td>\n",
              "      <td>0.000195</td>\n",
              "      <td>1.80</td>\n",
              "      <td>15.0</td>\n",
              "    </tr>\n",
              "    <tr>\n",
              "      <th>2</th>\n",
              "      <td>Stochastic HC 2</td>\n",
              "      <td>4</td>\n",
              "      <td>0.000411</td>\n",
              "      <td>1.73</td>\n",
              "      <td>31.0</td>\n",
              "    </tr>\n",
              "    <tr>\n",
              "      <th>3</th>\n",
              "      <td>Simulated Annealing + classic_simulated_annealing</td>\n",
              "      <td>4</td>\n",
              "      <td>0.000901</td>\n",
              "      <td>0.93</td>\n",
              "      <td>35.0</td>\n",
              "    </tr>\n",
              "    <tr>\n",
              "      <th>4</th>\n",
              "      <td>Simulated Annealing + fast_simulated_annealing</td>\n",
              "      <td>4</td>\n",
              "      <td>0.000907</td>\n",
              "      <td>0.04</td>\n",
              "      <td>96.0</td>\n",
              "    </tr>\n",
              "    <tr>\n",
              "      <th>5</th>\n",
              "      <td>Simulated Annealing + exponential_cooling</td>\n",
              "      <td>4</td>\n",
              "      <td>0.001162</td>\n",
              "      <td>0.06</td>\n",
              "      <td>94.0</td>\n",
              "    </tr>\n",
              "    <tr>\n",
              "      <th>6</th>\n",
              "      <td>Steepest asc. HC</td>\n",
              "      <td>8</td>\n",
              "      <td>0.001134</td>\n",
              "      <td>5.23</td>\n",
              "      <td>0.0</td>\n",
              "    </tr>\n",
              "    <tr>\n",
              "      <th>7</th>\n",
              "      <td>Stochastic HC 1</td>\n",
              "      <td>8</td>\n",
              "      <td>0.001438</td>\n",
              "      <td>5.32</td>\n",
              "      <td>0.0</td>\n",
              "    </tr>\n",
              "    <tr>\n",
              "      <th>8</th>\n",
              "      <td>Stochastic HC 2</td>\n",
              "      <td>8</td>\n",
              "      <td>0.000545</td>\n",
              "      <td>3.80</td>\n",
              "      <td>1.0</td>\n",
              "    </tr>\n",
              "    <tr>\n",
              "      <th>9</th>\n",
              "      <td>Simulated Annealing + classic_simulated_annealing</td>\n",
              "      <td>8</td>\n",
              "      <td>0.001153</td>\n",
              "      <td>2.68</td>\n",
              "      <td>2.0</td>\n",
              "    </tr>\n",
              "    <tr>\n",
              "      <th>10</th>\n",
              "      <td>Simulated Annealing + fast_simulated_annealing</td>\n",
              "      <td>8</td>\n",
              "      <td>0.001191</td>\n",
              "      <td>1.12</td>\n",
              "      <td>18.0</td>\n",
              "    </tr>\n",
              "    <tr>\n",
              "      <th>11</th>\n",
              "      <td>Simulated Annealing + exponential_cooling</td>\n",
              "      <td>8</td>\n",
              "      <td>0.001163</td>\n",
              "      <td>1.22</td>\n",
              "      <td>11.0</td>\n",
              "    </tr>\n",
              "  </tbody>\n",
              "</table>\n",
              "</div>"
            ],
            "text/plain": [
              "                                            Algorithm  Board size  \\\n",
              "0                                    Steepest asc. HC           4   \n",
              "1                                     Stochastic HC 1           4   \n",
              "2                                     Stochastic HC 2           4   \n",
              "3   Simulated Annealing + classic_simulated_annealing           4   \n",
              "4      Simulated Annealing + fast_simulated_annealing           4   \n",
              "5           Simulated Annealing + exponential_cooling           4   \n",
              "6                                    Steepest asc. HC           8   \n",
              "7                                     Stochastic HC 1           8   \n",
              "8                                     Stochastic HC 2           8   \n",
              "9   Simulated Annealing + classic_simulated_annealing           8   \n",
              "10     Simulated Annealing + fast_simulated_annealing           8   \n",
              "11          Simulated Annealing + exponential_cooling           8   \n",
              "\n",
              "    Avg. Run time  Avg. number of conflicts  \\\n",
              "0        0.000240                      1.99   \n",
              "1        0.000195                      1.80   \n",
              "2        0.000411                      1.73   \n",
              "3        0.000901                      0.93   \n",
              "4        0.000907                      0.04   \n",
              "5        0.001162                      0.06   \n",
              "6        0.001134                      5.23   \n",
              "7        0.001438                      5.32   \n",
              "8        0.000545                      3.80   \n",
              "9        0.001153                      2.68   \n",
              "10       0.001191                      1.12   \n",
              "11       0.001163                      1.22   \n",
              "\n",
              "    % of runs ending in optimal solution  \n",
              "0                                   10.0  \n",
              "1                                   15.0  \n",
              "2                                   31.0  \n",
              "3                                   35.0  \n",
              "4                                   96.0  \n",
              "5                                   94.0  \n",
              "6                                    0.0  \n",
              "7                                    0.0  \n",
              "8                                    1.0  \n",
              "9                                    2.0  \n",
              "10                                  18.0  \n",
              "11                                  11.0  "
            ]
          },
          "execution_count": 19,
          "metadata": {},
          "output_type": "execute_result"
        }
      ],
      "source": [
        "# comparison\n",
        "algos = {'Steepest asc. HC': steepest_ascend_hill_climbing,\n",
        "        'Stochastic HC 1': stochastic_hill_climbing,\n",
        "        'Stochastic HC 2': stochastic_hill_climbing_2,\n",
        "        'Simulated Annealing + classic_simulated_annealing' : lambda board: simulated_annealing(board, classic_simulated_annealing),\n",
        "        'Simulated Annealing + fast_simulated_annealing' : lambda board: simulated_annealing(board, fast_simulated_annealing),\n",
        "        'Simulated Annealing + exponential_cooling' : lambda board: simulated_annealing(board, exponential_cooling)}\n",
        "\n",
        "def comparison(algos, board_sizes = [4,8], times = 100):\n",
        "    columns = ['Algorithm', 'Board size', 'Avg. Run time', 'Avg. number of conflicts', '% of runs ending in optimal solution']\n",
        "    table = []\n",
        "    for n in board_sizes:\n",
        "        for algo_name, algo in algos.items():\n",
        "            conflict_vals, run_times, num_optimal = [], [], 0\n",
        "            for _ in range(times):\n",
        "                board = random_board(n)\n",
        "                start_time = time.time()\n",
        "                new_board = algo(board)\n",
        "                used_time = time.time() - start_time\n",
        "                conflict_val = conflicts(new_board)\n",
        "                num_optimal += 1 if conflict_val == 0 else 0\n",
        "                conflict_vals.append(conflict_val)\n",
        "                run_times.append(used_time)\n",
        "                \n",
        "            table.append([algo_name, n, np.mean(run_times), np.mean(conflict_vals), 100*num_optimal/len(conflict_vals)])\n",
        "\n",
        "    return pd.DataFrame(table, columns=columns)\n",
        "\n",
        "comparison(algos, times=100)"
      ]
    },
    {
      "cell_type": "markdown",
      "metadata": {},
      "source": [
        "##### Accoding to the above comparison, the \"Simulated Annealing + fast_simulated_annealing\" has produced the smallest average number of conflicts and biggest percentage of runs ending in optimal solution. Therefore, I will choose this shedule algorithm as the default for Simulated Annealing."
      ]
    },
    {
      "cell_type": "markdown",
      "metadata": {
        "id": "zkcExdsPGdZw",
        "notebookRunGroups": {
          "groupValue": ""
        }
      },
      "source": [
        "## Task 6: Compare Performance [10 Points]\n",
        "\n",
        "Compare the algorithm using runtime and objective function values. Use boards of size 4 and 8 to explore how the different algorithms perform. Make sure that you run the algorithms for each board size several times (at least 100 times) with different starting boards and report averages.\n",
        "\n",
        "Complete the following table"
      ]
    },
    {
      "cell_type": "code",
      "execution_count": 10,
      "metadata": {},
      "outputs": [
        {
          "data": {
            "text/html": [
              "<div>\n",
              "<style scoped>\n",
              "    .dataframe tbody tr th:only-of-type {\n",
              "        vertical-align: middle;\n",
              "    }\n",
              "\n",
              "    .dataframe tbody tr th {\n",
              "        vertical-align: top;\n",
              "    }\n",
              "\n",
              "    .dataframe thead th {\n",
              "        text-align: right;\n",
              "    }\n",
              "</style>\n",
              "<table border=\"1\" class=\"dataframe\">\n",
              "  <thead>\n",
              "    <tr style=\"text-align: right;\">\n",
              "      <th></th>\n",
              "      <th>Algorithm</th>\n",
              "      <th>Board size</th>\n",
              "      <th>Avg. Run time</th>\n",
              "      <th>Avg. number of conflicts</th>\n",
              "      <th>% of runs ending in optimal solution</th>\n",
              "    </tr>\n",
              "  </thead>\n",
              "  <tbody>\n",
              "    <tr>\n",
              "      <th>0</th>\n",
              "      <td>Steepest asc. HC</td>\n",
              "      <td>4</td>\n",
              "      <td>0.000190</td>\n",
              "      <td>2.10</td>\n",
              "      <td>10.0</td>\n",
              "    </tr>\n",
              "    <tr>\n",
              "      <th>1</th>\n",
              "      <td>Stochastic HC 1</td>\n",
              "      <td>4</td>\n",
              "      <td>0.000180</td>\n",
              "      <td>1.76</td>\n",
              "      <td>15.0</td>\n",
              "    </tr>\n",
              "    <tr>\n",
              "      <th>2</th>\n",
              "      <td>Stochastic HC 2</td>\n",
              "      <td>4</td>\n",
              "      <td>0.000340</td>\n",
              "      <td>1.75</td>\n",
              "      <td>35.0</td>\n",
              "    </tr>\n",
              "    <tr>\n",
              "      <th>3</th>\n",
              "      <td>Simulated Annealing</td>\n",
              "      <td>4</td>\n",
              "      <td>0.001047</td>\n",
              "      <td>0.03</td>\n",
              "      <td>97.0</td>\n",
              "    </tr>\n",
              "    <tr>\n",
              "      <th>4</th>\n",
              "      <td>Steepest asc. HC</td>\n",
              "      <td>8</td>\n",
              "      <td>0.001101</td>\n",
              "      <td>5.49</td>\n",
              "      <td>0.0</td>\n",
              "    </tr>\n",
              "    <tr>\n",
              "      <th>5</th>\n",
              "      <td>Stochastic HC 1</td>\n",
              "      <td>8</td>\n",
              "      <td>0.001444</td>\n",
              "      <td>5.21</td>\n",
              "      <td>0.0</td>\n",
              "    </tr>\n",
              "    <tr>\n",
              "      <th>6</th>\n",
              "      <td>Stochastic HC 2</td>\n",
              "      <td>8</td>\n",
              "      <td>0.000540</td>\n",
              "      <td>3.71</td>\n",
              "      <td>2.0</td>\n",
              "    </tr>\n",
              "    <tr>\n",
              "      <th>7</th>\n",
              "      <td>Simulated Annealing</td>\n",
              "      <td>8</td>\n",
              "      <td>0.001138</td>\n",
              "      <td>1.24</td>\n",
              "      <td>14.0</td>\n",
              "    </tr>\n",
              "    <tr>\n",
              "      <th>8</th>\n",
              "      <td>Steepest asc. HC</td>\n",
              "      <td>16</td>\n",
              "      <td>0.008889</td>\n",
              "      <td>13.78</td>\n",
              "      <td>0.0</td>\n",
              "    </tr>\n",
              "    <tr>\n",
              "      <th>9</th>\n",
              "      <td>Stochastic HC 1</td>\n",
              "      <td>16</td>\n",
              "      <td>0.011856</td>\n",
              "      <td>13.49</td>\n",
              "      <td>0.0</td>\n",
              "    </tr>\n",
              "    <tr>\n",
              "      <th>10</th>\n",
              "      <td>Stochastic HC 2</td>\n",
              "      <td>16</td>\n",
              "      <td>0.000866</td>\n",
              "      <td>7.42</td>\n",
              "      <td>0.0</td>\n",
              "    </tr>\n",
              "    <tr>\n",
              "      <th>11</th>\n",
              "      <td>Simulated Annealing</td>\n",
              "      <td>16</td>\n",
              "      <td>0.001751</td>\n",
              "      <td>4.11</td>\n",
              "      <td>0.0</td>\n",
              "    </tr>\n",
              "    <tr>\n",
              "      <th>12</th>\n",
              "      <td>Steepest asc. HC</td>\n",
              "      <td>32</td>\n",
              "      <td>0.063625</td>\n",
              "      <td>32.25</td>\n",
              "      <td>0.0</td>\n",
              "    </tr>\n",
              "    <tr>\n",
              "      <th>13</th>\n",
              "      <td>Stochastic HC 1</td>\n",
              "      <td>32</td>\n",
              "      <td>0.104572</td>\n",
              "      <td>32.23</td>\n",
              "      <td>0.0</td>\n",
              "    </tr>\n",
              "    <tr>\n",
              "      <th>14</th>\n",
              "      <td>Stochastic HC 2</td>\n",
              "      <td>32</td>\n",
              "      <td>0.001406</td>\n",
              "      <td>18.89</td>\n",
              "      <td>0.0</td>\n",
              "    </tr>\n",
              "    <tr>\n",
              "      <th>15</th>\n",
              "      <td>Simulated Annealing</td>\n",
              "      <td>32</td>\n",
              "      <td>0.002871</td>\n",
              "      <td>12.77</td>\n",
              "      <td>0.0</td>\n",
              "    </tr>\n",
              "  </tbody>\n",
              "</table>\n",
              "</div>"
            ],
            "text/plain": [
              "              Algorithm  Board size  Avg. Run time  Avg. number of conflicts  \\\n",
              "0      Steepest asc. HC           4       0.000190                      2.10   \n",
              "1       Stochastic HC 1           4       0.000180                      1.76   \n",
              "2       Stochastic HC 2           4       0.000340                      1.75   \n",
              "3   Simulated Annealing           4       0.001047                      0.03   \n",
              "4      Steepest asc. HC           8       0.001101                      5.49   \n",
              "5       Stochastic HC 1           8       0.001444                      5.21   \n",
              "6       Stochastic HC 2           8       0.000540                      3.71   \n",
              "7   Simulated Annealing           8       0.001138                      1.24   \n",
              "8      Steepest asc. HC          16       0.008889                     13.78   \n",
              "9       Stochastic HC 1          16       0.011856                     13.49   \n",
              "10      Stochastic HC 2          16       0.000866                      7.42   \n",
              "11  Simulated Annealing          16       0.001751                      4.11   \n",
              "12     Steepest asc. HC          32       0.063625                     32.25   \n",
              "13      Stochastic HC 1          32       0.104572                     32.23   \n",
              "14      Stochastic HC 2          32       0.001406                     18.89   \n",
              "15  Simulated Annealing          32       0.002871                     12.77   \n",
              "\n",
              "    % of runs ending in optimal solution  \n",
              "0                                   10.0  \n",
              "1                                   15.0  \n",
              "2                                   35.0  \n",
              "3                                   97.0  \n",
              "4                                    0.0  \n",
              "5                                    0.0  \n",
              "6                                    2.0  \n",
              "7                                   14.0  \n",
              "8                                    0.0  \n",
              "9                                    0.0  \n",
              "10                                   0.0  \n",
              "11                                   0.0  \n",
              "12                                   0.0  \n",
              "13                                   0.0  \n",
              "14                                   0.0  \n",
              "15                                   0.0  "
            ]
          },
          "execution_count": 10,
          "metadata": {},
          "output_type": "execute_result"
        }
      ],
      "source": [
        "# Code, results, charts and discussion go here\n",
        "algos = {'Steepest asc. HC': steepest_ascend_hill_climbing,\n",
        "        'Stochastic HC 1': stochastic_hill_climbing,\n",
        "        'Stochastic HC 2': stochastic_hill_climbing_2, \n",
        "        'Simulated Annealing' : simulated_annealing}\n",
        "board_sizes = [4,8,16,32] \n",
        "df = comparison(algos, board_sizes, times=100)\n",
        "df"
      ]
    },
    {
      "cell_type": "markdown",
      "metadata": {},
      "source": [
        "Add the used code and the answer to the following questions below.\n",
        "\n",
        "* How do the algorithms scale with problem size? You will need to run more board sizes. You can add the results to the table above and show the result as a chart.\n",
        "\n",
        "* What is the largest board each algorithm can solve in a reasonable amount time?\n",
        "\n",
        "Hint: See [Profiling Python Code](../HOWTOs/profiling_code.ipynb) for help about how to measure runtime in Python."
      ]
    },
    {
      "cell_type": "code",
      "execution_count": 11,
      "metadata": {},
      "outputs": [
        {
          "data": {
            "image/png": "[encoded data removed]",
            "text/plain": [
              "<Figure size 2000x500 with 3 Axes>"
            ]
          },
          "metadata": {},
          "output_type": "display_data"
        }
      ],
      "source": [
        "# plot the results\n",
        "x = range(len(board_sizes))\n",
        "num_algo = len(algos)\n",
        "plt.figure(figsize = (20,5))\n",
        "for col_idx, col in enumerate(df.columns[2:]):\n",
        "    ax = plt.subplot(1, 3, col_idx+1)\n",
        "    for idx, algo_name in enumerate(algos):\n",
        "        y = df.loc[range(idx, df.shape[0], num_algo), col]\n",
        "        \n",
        "        ax.plot(x, y, label = algo_name)\n",
        "    plt.xticks(x, board_sizes)\n",
        "    plt.legend()\n",
        "    plt.xlabel(df.columns[1])\n",
        "    plt.ylabel(col)\n",
        "    plt.title(col)"
      ]
    },
    {
      "cell_type": "markdown",
      "metadata": {},
      "source": [
        "* As the graph shown above, the runtime increases for bigger board. Similarly, the average number of conflicts grows as board size increses. However, the percentage of runs ending in optimal solution decreases as the borad size increses.\n",
        "* Based on the the comparison below, the largest board each algorithm can solve in a reasonable amount time are 128, 128, 102400, 102400, respectively."
      ]
    },
    {
      "cell_type": "code",
      "execution_count": 16,
      "metadata": {},
      "outputs": [
        {
          "data": {
            "text/html": [
              "<div>\n",
              "<style scoped>\n",
              "    .dataframe tbody tr th:only-of-type {\n",
              "        vertical-align: middle;\n",
              "    }\n",
              "\n",
              "    .dataframe tbody tr th {\n",
              "        vertical-align: top;\n",
              "    }\n",
              "\n",
              "    .dataframe thead th {\n",
              "        text-align: right;\n",
              "    }\n",
              "</style>\n",
              "<table border=\"1\" class=\"dataframe\">\n",
              "  <thead>\n",
              "    <tr style=\"text-align: right;\">\n",
              "      <th></th>\n",
              "      <th>Algorithm</th>\n",
              "      <th>Board size</th>\n",
              "      <th>Avg. Run time</th>\n",
              "      <th>Avg. number of conflicts</th>\n",
              "      <th>% of runs ending in optimal solution</th>\n",
              "    </tr>\n",
              "  </thead>\n",
              "  <tbody>\n",
              "    <tr>\n",
              "      <th>0</th>\n",
              "      <td>Steepest asc. HC</td>\n",
              "      <td>64</td>\n",
              "      <td>0.604862</td>\n",
              "      <td>67.8</td>\n",
              "      <td>0.0</td>\n",
              "    </tr>\n",
              "    <tr>\n",
              "      <th>1</th>\n",
              "      <td>Stochastic HC 1</td>\n",
              "      <td>64</td>\n",
              "      <td>0.755291</td>\n",
              "      <td>58.0</td>\n",
              "      <td>0.0</td>\n",
              "    </tr>\n",
              "    <tr>\n",
              "      <th>2</th>\n",
              "      <td>Steepest asc. HC</td>\n",
              "      <td>128</td>\n",
              "      <td>4.363819</td>\n",
              "      <td>142.6</td>\n",
              "      <td>0.0</td>\n",
              "    </tr>\n",
              "    <tr>\n",
              "      <th>3</th>\n",
              "      <td>Stochastic HC 1</td>\n",
              "      <td>128</td>\n",
              "      <td>4.985946</td>\n",
              "      <td>142.4</td>\n",
              "      <td>0.0</td>\n",
              "    </tr>\n",
              "  </tbody>\n",
              "</table>\n",
              "</div>"
            ],
            "text/plain": [
              "          Algorithm  Board size  Avg. Run time  Avg. number of conflicts  \\\n",
              "0  Steepest asc. HC          64       0.604862                      67.8   \n",
              "1   Stochastic HC 1          64       0.755291                      58.0   \n",
              "2  Steepest asc. HC         128       4.363819                     142.6   \n",
              "3   Stochastic HC 1         128       4.985946                     142.4   \n",
              "\n",
              "   % of runs ending in optimal solution  \n",
              "0                                   0.0  \n",
              "1                                   0.0  \n",
              "2                                   0.0  \n",
              "3                                   0.0  "
            ]
          },
          "metadata": {},
          "output_type": "display_data"
        },
        {
          "data": {
            "text/html": [
              "<div>\n",
              "<style scoped>\n",
              "    .dataframe tbody tr th:only-of-type {\n",
              "        vertical-align: middle;\n",
              "    }\n",
              "\n",
              "    .dataframe tbody tr th {\n",
              "        vertical-align: top;\n",
              "    }\n",
              "\n",
              "    .dataframe thead th {\n",
              "        text-align: right;\n",
              "    }\n",
              "</style>\n",
              "<table border=\"1\" class=\"dataframe\">\n",
              "  <thead>\n",
              "    <tr style=\"text-align: right;\">\n",
              "      <th></th>\n",
              "      <th>Algorithm</th>\n",
              "      <th>Board size</th>\n",
              "      <th>Avg. Run time</th>\n",
              "      <th>Avg. number of conflicts</th>\n",
              "      <th>% of runs ending in optimal solution</th>\n",
              "    </tr>\n",
              "  </thead>\n",
              "  <tbody>\n",
              "    <tr>\n",
              "      <th>0</th>\n",
              "      <td>Stochastic HC 2</td>\n",
              "      <td>5120</td>\n",
              "      <td>0.198515</td>\n",
              "      <td>5869.4</td>\n",
              "      <td>0.0</td>\n",
              "    </tr>\n",
              "    <tr>\n",
              "      <th>1</th>\n",
              "      <td>Simulated Annealing</td>\n",
              "      <td>5120</td>\n",
              "      <td>0.394089</td>\n",
              "      <td>5848.4</td>\n",
              "      <td>0.0</td>\n",
              "    </tr>\n",
              "    <tr>\n",
              "      <th>2</th>\n",
              "      <td>Stochastic HC 2</td>\n",
              "      <td>102400</td>\n",
              "      <td>4.348689</td>\n",
              "      <td>119634.2</td>\n",
              "      <td>0.0</td>\n",
              "    </tr>\n",
              "    <tr>\n",
              "      <th>3</th>\n",
              "      <td>Simulated Annealing</td>\n",
              "      <td>102400</td>\n",
              "      <td>8.550816</td>\n",
              "      <td>119423.4</td>\n",
              "      <td>0.0</td>\n",
              "    </tr>\n",
              "  </tbody>\n",
              "</table>\n",
              "</div>"
            ],
            "text/plain": [
              "             Algorithm  Board size  Avg. Run time  Avg. number of conflicts  \\\n",
              "0      Stochastic HC 2        5120       0.198515                    5869.4   \n",
              "1  Simulated Annealing        5120       0.394089                    5848.4   \n",
              "2      Stochastic HC 2      102400       4.348689                  119634.2   \n",
              "3  Simulated Annealing      102400       8.550816                  119423.4   \n",
              "\n",
              "   % of runs ending in optimal solution  \n",
              "0                                   0.0  \n",
              "1                                   0.0  \n",
              "2                                   0.0  \n",
              "3                                   0.0  "
            ]
          },
          "metadata": {},
          "output_type": "display_data"
        }
      ],
      "source": [
        "algos1 = {'Steepest asc. HC': steepest_ascend_hill_climbing,\n",
        "        'Stochastic HC 1': stochastic_hill_climbing}\n",
        "\n",
        "algos2= {'Stochastic HC 2': stochastic_hill_climbing_2, \n",
        "        'Simulated Annealing' : simulated_annealing}\n",
        "\n",
        "display(comparison(algos1, board_sizes=[64, 128], times=5))\n",
        "display(comparison(algos2, board_sizes=[5120, 102400], times=5))"
      ]
    },
    {
      "cell_type": "markdown",
      "metadata": {
        "id": "qXy1RoNTGdZw"
      },
      "source": [
        "## Advanced task: Exploring other Local Moves\n",
        "\n",
        "* __Graduate students__ need to complete this task [10 points]\n",
        "* __Undergraduate students__ can attempt this as a bonus task [max +5 bonus points].\n",
        "\n",
        "Implement a few different local moves. Implement:\n",
        "\n",
        "* moving one queen only one square at a time\n",
        "* switching two columns\n",
        "* move two queens at a time\n",
        "\n",
        "Compare the performance of these moves for the 8-Queens problem using your stochastic hill climbing 2 implementation from above. Also consider mixing the use of several types of local moves (e.g., move one queen and moving two queens).\n",
        "\n",
        "Describe what you find out about how well these moves and combinations of these moves work."
      ]
    },
    {
      "cell_type": "code",
      "execution_count": 14,
      "metadata": {
        "id": "b35Y_q3vGdZw",
        "tags": []
      },
      "outputs": [
        {
          "data": {
            "text/html": [
              "<div>\n",
              "<style scoped>\n",
              "    .dataframe tbody tr th:only-of-type {\n",
              "        vertical-align: middle;\n",
              "    }\n",
              "\n",
              "    .dataframe tbody tr th {\n",
              "        vertical-align: top;\n",
              "    }\n",
              "\n",
              "    .dataframe thead th {\n",
              "        text-align: right;\n",
              "    }\n",
              "</style>\n",
              "<table border=\"1\" class=\"dataframe\">\n",
              "  <thead>\n",
              "    <tr style=\"text-align: right;\">\n",
              "      <th></th>\n",
              "      <th>Algorithm</th>\n",
              "      <th>Board size</th>\n",
              "      <th>Avg. Run time</th>\n",
              "      <th>Avg. number of conflicts</th>\n",
              "      <th>% of runs ending in optimal solution</th>\n",
              "    </tr>\n",
              "  </thead>\n",
              "  <tbody>\n",
              "    <tr>\n",
              "      <th>0</th>\n",
              "      <td>stochastic_hill_climbing_2 + move_one_queen</td>\n",
              "      <td>8</td>\n",
              "      <td>0.001855</td>\n",
              "      <td>6.723</td>\n",
              "      <td>0.1</td>\n",
              "    </tr>\n",
              "    <tr>\n",
              "      <th>1</th>\n",
              "      <td>stochastic_hill_climbing_2 + switch_two_columns</td>\n",
              "      <td>8</td>\n",
              "      <td>0.001881</td>\n",
              "      <td>6.680</td>\n",
              "      <td>0.0</td>\n",
              "    </tr>\n",
              "    <tr>\n",
              "      <th>2</th>\n",
              "      <td>stochastic_hill_climbing_2 + move_two_queens</td>\n",
              "      <td>8</td>\n",
              "      <td>0.001880</td>\n",
              "      <td>6.691</td>\n",
              "      <td>0.1</td>\n",
              "    </tr>\n",
              "    <tr>\n",
              "      <th>3</th>\n",
              "      <td>stochastic_hill_climbing_2 + move_one_queen + switch_two_columns</td>\n",
              "      <td>8</td>\n",
              "      <td>0.001830</td>\n",
              "      <td>6.613</td>\n",
              "      <td>0.2</td>\n",
              "    </tr>\n",
              "    <tr>\n",
              "      <th>4</th>\n",
              "      <td>stochastic_hill_climbing_2 + move_one_queen + move_two_queens</td>\n",
              "      <td>8</td>\n",
              "      <td>0.001837</td>\n",
              "      <td>6.787</td>\n",
              "      <td>0.0</td>\n",
              "    </tr>\n",
              "    <tr>\n",
              "      <th>5</th>\n",
              "      <td>stochastic_hill_climbing_2 + switch_two_columns + move_two_queens</td>\n",
              "      <td>8</td>\n",
              "      <td>0.001844</td>\n",
              "      <td>6.647</td>\n",
              "      <td>0.1</td>\n",
              "    </tr>\n",
              "    <tr>\n",
              "      <th>6</th>\n",
              "      <td>stochastic_hill_climbing_2 + move_one_queen + switch_two_columns + move_two_queens</td>\n",
              "      <td>8</td>\n",
              "      <td>0.001824</td>\n",
              "      <td>6.653</td>\n",
              "      <td>0.0</td>\n",
              "    </tr>\n",
              "  </tbody>\n",
              "</table>\n",
              "</div>"
            ],
            "text/plain": [
              "                                                                            Algorithm  \\\n",
              "0                                         stochastic_hill_climbing_2 + move_one_queen   \n",
              "1                                     stochastic_hill_climbing_2 + switch_two_columns   \n",
              "2                                        stochastic_hill_climbing_2 + move_two_queens   \n",
              "3                    stochastic_hill_climbing_2 + move_one_queen + switch_two_columns   \n",
              "4                       stochastic_hill_climbing_2 + move_one_queen + move_two_queens   \n",
              "5                   stochastic_hill_climbing_2 + switch_two_columns + move_two_queens   \n",
              "6  stochastic_hill_climbing_2 + move_one_queen + switch_two_columns + move_two_queens   \n",
              "\n",
              "   Board size  Avg. Run time  Avg. number of conflicts  \\\n",
              "0           8       0.001855                     6.723   \n",
              "1           8       0.001881                     6.680   \n",
              "2           8       0.001880                     6.691   \n",
              "3           8       0.001830                     6.613   \n",
              "4           8       0.001837                     6.787   \n",
              "5           8       0.001844                     6.647   \n",
              "6           8       0.001824                     6.653   \n",
              "\n",
              "   % of runs ending in optimal solution  \n",
              "0                                   0.1  \n",
              "1                                   0.0  \n",
              "2                                   0.1  \n",
              "3                                   0.2  \n",
              "4                                   0.0  \n",
              "5                                   0.1  \n",
              "6                                   0.0  "
            ]
          },
          "execution_count": 14,
          "metadata": {},
          "output_type": "execute_result"
        }
      ],
      "source": [
        "# Code and description go here\n",
        "def move_one_queen(board):\n",
        "    \"\"\"moving one queen only one square at a time\"\"\"\n",
        "    n = len(board)\n",
        "    col = np.random.randint(n)\n",
        "    new_board = board.copy()\n",
        "    if board[col] == 0:\n",
        "        new_board[col] += 1\n",
        "    elif board[col] == n-1:\n",
        "        new_board[col] -= 1\n",
        "    else:\n",
        "        rand_move = 1 if np.random.random() < 0.5 else -1\n",
        "        new_board[col] += rand_move\n",
        "    return new_board\n",
        "\n",
        "def switch_two_columns(board):\n",
        "    \"\"\"switching two columns\"\"\"\n",
        "    n = len(board)\n",
        "    col1, col2 = np.random.choice(range(n), 2, replace=False)\n",
        "    new_board = board.copy()\n",
        "    new_board[col1], new_board[col2] = new_board[col2], new_board[col1]\n",
        "    return new_board\n",
        "\n",
        "def move_two_queens(board):\n",
        "    \"\"\"move two queens at a time\"\"\"\n",
        "    n = len(board)\n",
        "    col1, col2 = np.random.choice(range(n), 2, replace=False)\n",
        "    \n",
        "    new_board = board.copy()\n",
        "    while True:\n",
        "        row1, row2 = np.random.randint(n, size=2)\n",
        "        if row1 != board[col1] and row2 != board[col2]:\n",
        "            break\n",
        "        # same row, continue\n",
        "    \n",
        "    new_board[col1] = row1\n",
        "    new_board[col2] = row2\n",
        "    return new_board\n",
        "\n",
        "\n",
        "local_move_funcs = [move_one_queen, switch_two_columns, move_two_queens]\n",
        "move_combinations = [[0], [1], [2], [0,1], [0,2], [1,2], [0,1,2]]\n",
        "\n",
        "num_all_move_funcs = len(local_move_funcs)\n",
        "algos = {}\n",
        "for comb in move_combinations:\n",
        "    name = 'stochastic_hill_climbing_2 + ' + ' + '.join([local_move_funcs[i].__name__ for i in comb])\n",
        "    move_funcs = [local_move_funcs[i] for i in comb]\n",
        "    algos.update({name: lambda board: stochastic_hill_climbing_2(board, move_funcs)})\n",
        "\n",
        "pd.set_option('max_colwidth', 1000)\n",
        "comparison(algos, board_sizes=[8], times = 1000)"
      ]
    },
    {
      "cell_type": "markdown",
      "metadata": {},
      "source": [
        "#### According to above comparison, the differnces are trivial. Combing multiple local moves does not provide a much better performance."
      ]
    },
    {
      "cell_type": "markdown",
      "metadata": {
        "id": "WSCMbBJtGdZw"
      },
      "source": [
        "## More things to do\n",
        "\n",
        "Implement a Genetic Algorithm for the n-Queens problem."
      ]
    },
    {
      "cell_type": "code",
      "execution_count": null,
      "metadata": {
        "id": "PMk0MmuqGdZw",
        "tags": []
      },
      "outputs": [],
      "source": [
        "# Code and description go here"
      ]
    }
  ],
  "metadata": {
    "colab": {
      "provenance": []
    },
    "kernelspec": {
      "display_name": "Python 3 (ipykernel)",
      "language": "python",
      "name": "python3"
    },
    "language_info": {
      "codemirror_mode": {
        "name": "ipython",
        "version": 3
      },
      "file_extension": ".py",
      "mimetype": "text/x-python",
      "name": "python",
      "nbconvert_exporter": "python",
      "pygments_lexer": "ipython3",
      "version": "3.11.5"
    },
    "toc-autonumbering": false,
    "toc-showcode": false,
    "toc-showmarkdowntxt": false,
    "toc-showtags": false
  },
  "nbformat": 4,
  "nbformat_minor": 0
}
