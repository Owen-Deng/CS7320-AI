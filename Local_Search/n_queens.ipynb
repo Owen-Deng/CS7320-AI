{
  "cells": [
    {
      "cell_type": "markdown",
      "metadata": {
        "id": "VJrFs0vFGdZq"
      },
      "source": [
        "# Solving the n-Queens Problem using Local Search\n",
        "\n",
        "Student Name: Chuanqi Deng\n",
        "\n",
        "I have used the following AI tools: ChatGPT\n",
        "\n",
        "I understand that my submission needs to be my own work: CD\n",
        "\n",
        "## Instructions\n",
        "\n",
        "Total Points: Undergrads 100 + 5 bonus / Graduate students 110\n",
        "\n",
        "Complete this notebook. Use the provided notebook cells and insert additional code and markdown cells as needed. Submit the completely rendered notebook as a HTML file.\n"
      ]
    },
    {
      "cell_type": "markdown",
      "metadata": {
        "id": "QC4ajTRSGdZs"
      },
      "source": [
        "## The n-Queens Problem\n",
        "\n",
        "* __Goal:__ Find an arrangement of $n$ queens on a $n \\times n$ chess board so that no queen is on the same row, column or diagonal as any other queen.\n",
        "\n",
        "* __State space:__ An arrangement of the queens on the board. We restrict the state space to arrangements where there is only a single queen per column. We represent a state as an integer vector $\\mathbf{q} = \\{q_1, q_2, \\dots, q_n\\}$, each number representing the row positions of the queens from left to right. We will call a state a \"board.\"\n",
        "\n",
        "* __Objective function:__ The number of pairwise conflicts (i.e., two queens in the same row/column/diagonal).\n",
        "The optimization problem is to find the optimal arrangement $\\mathbf{q}^*$ of $n$ queens on the board can be written as:\n",
        "\n",
        "  > minimize: $\\mathrm{conflicts}(\\mathbf{q})$\n",
        "  >\n",
        "  > subject to: $\\mathbf{q} \\ \\text{contains only one queen per column}$\n",
        "\n",
        "  Note: the constraint (subject to) is enforced by the definition of the state space.\n",
        "\n",
        "* __Local improvement move:__ Move one queen to a different row in its column.\n",
        "\n",
        "* __Termination:__ For this problem there is always an arrangement $\\mathbf{q}^*$ with $\\mathrm{conflicts}(\\mathbf{q}^*) = 0$, however, the local improvement moves might end up in a local minimum."
      ]
    },
    {
      "cell_type": "markdown",
      "metadata": {
        "id": "b0nkilscGdZt"
      },
      "source": [
        "## Helper functions"
      ]
    },
    {
      "cell_type": "code",
      "execution_count": 1,
      "metadata": {
        "id": "rxcfLTcgGdZt"
      },
      "outputs": [],
      "source": [
        "import numpy as np\n",
        "import matplotlib.pyplot as plt\n",
        "from matplotlib import colors\n",
        "\n",
        "np.random.seed(1234)\n",
        "\n",
        "\n",
        "def random_board(n):\n",
        "    \"\"\"Creates a random board of size n x n. Note that only a single queen is placed in each column!\"\"\"\n",
        "\n",
        "    return(np.random.randint(0,n, size = n))\n",
        "\n",
        "def comb2(n): return n*(n-1)//2 # this is n choose 2 equivalent to math.comb(n, 2); // is int division\n",
        "\n",
        "def conflicts(board):\n",
        "    \"\"\"Calculate the number of conflicts, i.e., the objective function.\"\"\"\n",
        "\n",
        "    n = len(board)\n",
        "\n",
        "    horizontal_cnt = [0] * n\n",
        "    diagonal1_cnt = [0] * 2 * n\n",
        "    diagonal2_cnt = [0] * 2 * n\n",
        "\n",
        "    for i in range(n):\n",
        "        horizontal_cnt[board[i]] += 1\n",
        "        diagonal1_cnt[i + board[i]] += 1\n",
        "        diagonal2_cnt[i - board[i] + n] += 1\n",
        "\n",
        "    return sum(map(comb2, horizontal_cnt + diagonal1_cnt + diagonal2_cnt))\n",
        "\n",
        "# decrease the font size to fit larger boards\n",
        "def show_board(board, cols = ['white', 'gray'], fontsize = 48):\n",
        "    \"\"\"display the board\"\"\"\n",
        "\n",
        "    n = len(board)\n",
        "\n",
        "    # create chess board display\n",
        "    display = np.zeros([n,n])\n",
        "    for i in range(n):\n",
        "        for j in range(n):\n",
        "            if (((i+j) % 2) != 0):\n",
        "                display[i,j] = 1\n",
        "\n",
        "    cmap = colors.ListedColormap(cols)\n",
        "    fig, ax = plt.subplots()\n",
        "    ax.imshow(display, cmap = cmap,\n",
        "              norm = colors.BoundaryNorm(range(len(cols)+1), cmap.N))\n",
        "    ax.set_xticks([])\n",
        "    ax.set_yticks([])\n",
        "\n",
        "    # place queens. Note: Unicode u265B is a black queen\n",
        "    for j in range(n):\n",
        "        plt.text(j, board[j], u\"\\u265B\", fontsize = fontsize,\n",
        "                 horizontalalignment = 'center',\n",
        "                 verticalalignment = 'center')\n",
        "\n",
        "    print(f\"Board with {conflicts(board)} conflicts.\")\n",
        "    plt.show()"
      ]
    },
    {
      "cell_type": "markdown",
      "metadata": {
        "id": "fg4WVj2_GdZu"
      },
      "source": [
        "## Create a board"
      ]
    },
    {
      "cell_type": "code",
      "execution_count": 2,
      "metadata": {
        "id": "XOdA8qz9GdZu",
        "outputId": "bd1cde8b-83ab-45f4-99c6-1e9490a4221d"
      },
      "outputs": [
        {
          "name": "stdout",
          "output_type": "stream",
          "text": [
            "Board with 4 conflicts.\n"
          ]
        },
        {
          "data": {
            "image/png": "[encoded data removed]",
            "text/plain": [
              "<Figure size 640x480 with 1 Axes>"
            ]
          },
          "metadata": {},
          "output_type": "display_data"
        },
        {
          "name": "stdout",
          "output_type": "stream",
          "text": [
            "Queens (left to right) are at rows: [3 3 2 1]\n",
            "Number of conflicts: 4\n"
          ]
        }
      ],
      "source": [
        "board = random_board(4)\n",
        "\n",
        "show_board(board)\n",
        "print(f\"Queens (left to right) are at rows: {board}\")\n",
        "print(f\"Number of conflicts: {conflicts(board)}\")"
      ]
    },
    {
      "cell_type": "markdown",
      "metadata": {
        "id": "dRnF5EoIGdZu"
      },
      "source": [
        "A board $4 \\times 4$ with no conflicts:"
      ]
    },
    {
      "cell_type": "code",
      "execution_count": 3,
      "metadata": {
        "id": "2nD9ivwtGdZv",
        "outputId": "11a8b8e2-d792-4e76-f276-31ca580ff4e7"
      },
      "outputs": [
        {
          "name": "stdout",
          "output_type": "stream",
          "text": [
            "Board with 0 conflicts.\n"
          ]
        },
        {
          "data": {
            "image/png": "[encoded data removed]",
            "text/plain": [
              "<Figure size 640x480 with 1 Axes>"
            ]
          },
          "metadata": {},
          "output_type": "display_data"
        }
      ],
      "source": [
        "board = [1,3,0,2]\n",
        "show_board(board)"
      ]
    },
    {
      "cell_type": "markdown",
      "metadata": {
        "id": "_H6yit9FGdZv"
      },
      "source": [
        "# Tasks\n",
        "\n",
        "## General [10 Points]\n",
        "\n",
        "1. Make sure that you use the latest version of this notebook. Sync your forked repository and pull the latest revision.\n",
        "2. Your implementation can use libraries like math, numpy, scipy, but not libraries that implement intelligent agents or complete search algorithms. Try to keep the code simple! In this course, we want to learn about the algorithms and we often do not need to use object-oriented design.\n",
        "3. You notebook needs to be formatted professionally.\n",
        "    - Add additional markdown blocks for your description, comments in the code, add tables and use mathplotlib to produce charts where appropriate\n",
        "    - Do not show debugging output or include an excessive amount of output.\n",
        "    - Check that your PDF file is readable. For example, long lines are cut off in the PDF file. You don't have control over page breaks, so do not worry about these.\n",
        "4. Document your code. Add a short discussion of how your implementation works and your design choices."
      ]
    },
    {
      "cell_type": "markdown",
      "metadata": {
        "id": "oaXSRU56GdZv"
      },
      "source": [
        "## Task 1: Steepest-ascend Hill Climbing Search [30 Points]\n",
        "\n",
        "Calculate the objective function for all local moves (see definition of local moves above) and always choose the best among all local moves. If there are no local moves that improve the objective, then you have reached a local optimum."
      ]
    },
    {
      "cell_type": "code",
      "execution_count": 4,
      "metadata": {
        "id": "wwSqhnIjGdZv"
      },
      "outputs": [
        {
          "name": "stdout",
          "output_type": "stream",
          "text": [
            "Board with 0 conflicts.\n"
          ]
        },
        {
          "data": {
            "image/png": "[encoded data removed]",
            "text/plain": [
              "<Figure size 640x480 with 1 Axes>"
            ]
          },
          "metadata": {},
          "output_type": "display_data"
        }
      ],
      "source": [
        "# Code and description go here\n",
        "def all_conflicts(board):\n",
        "    \"\"\"return a matrix showing all conficts\"\"\"\n",
        "    n = len(board)\n",
        "    values = np.empty((n,n)) # 2D array for saving all conflict values\n",
        "    for col in range(n):\n",
        "        for row in range(n):\n",
        "            board = board.copy()# avoid changing the original board\n",
        "            board[col] = row\n",
        "            values[row][col] = conflicts(board)\n",
        "    return values\n",
        "\n",
        "def find_best_move(board:list, random=False):\n",
        "    \"\"\"return a board after choose the best local move, and the conflict number after move\"\"\"\n",
        "    values = all_conflicts(board)\n",
        "            \n",
        "    # find the minimum positions\n",
        "    min_conflict_val = np.min(values)\n",
        "    min_indices = np.where(values==min_conflict_val)\n",
        "    \n",
        "    # find one minium posittion\n",
        "    idx = np.random.randint(0, min_indices[0].shape[0]) if random else 0\n",
        "    min_row_idx, min_col_idx = min_indices[0][idx], min_indices[1][idx]\n",
        "    \n",
        "    # change the board to the position\n",
        "    board = board.copy() # avoid changing the original board\n",
        "    board[min_col_idx] = min_row_idx\n",
        "    return board, values[min_row_idx][min_col_idx]\n",
        "    \n",
        "\n",
        "def steepest_ascend_hill_climbing(board):\n",
        "    \"\"\"Return a board by chosing smallest conflict move each iteration.\"\"\"\n",
        "    cur_conflict_val = conflicts(board)\n",
        "    while True:\n",
        "        less_conflicted_board, less_confilict_val = find_best_move(board)\n",
        "        if less_confilict_val >= cur_conflict_val:\n",
        "            return board # return if found local minimum\n",
        "        \n",
        "        # update board and conflict values \n",
        "        board = less_conflicted_board\n",
        "        cur_conflict_val = less_confilict_val\n",
        "\n",
        "\n",
        "show_board(steepest_ascend_hill_climbing(board))"
      ]
    },
    {
      "cell_type": "markdown",
      "metadata": {
        "id": "exoOBptjGdZv"
      },
      "source": [
        "## Task 2: Stochastic Hill Climbing 1 [10 Points]\n",
        "\n",
        "Chooses randomly from among all uphill moves till you have reached a local optimum."
      ]
    },
    {
      "cell_type": "code",
      "execution_count": 44,
      "metadata": {
        "id": "sKypcqjTGdZv"
      },
      "outputs": [
        {
          "name": "stdout",
          "output_type": "stream",
          "text": [
            "Board with 3 conflicts.\n"
          ]
        },
        {
          "data": {
            "image/png": "[encoded data removed]",
            "text/plain": [
              "<Figure size 640x480 with 1 Axes>"
            ]
          },
          "metadata": {},
          "output_type": "display_data"
        }
      ],
      "source": [
        "\n",
        "# Code and description go here\n",
        "def find_random_uphill_move(board:list, cur_conflict_val):\n",
        "    \"\"\"return a board after choose the best local move, and the conflict number after move\"\"\"\n",
        "    values = all_conflicts(board)\n",
        "    \n",
        "    # find the uphill positions\n",
        "    uphill_indices = np.where(values < cur_conflict_val)\n",
        "    if uphill_indices[0].shape[0] == 0:\n",
        "        return board, cur_conflict_val # no uphill move found\n",
        "    \n",
        "    # find one uphill position\n",
        "    random_idx = np.random.randint(0, uphill_indices[0].shape[0])\n",
        "    uphill_row_idx, uphill_col_idx = uphill_indices[0][random_idx], uphill_indices[1][random_idx]\n",
        "    \n",
        "    # change the board to the position\n",
        "    board = board.copy() # avoid changing the original board\n",
        "    board[uphill_col_idx] = uphill_row_idx\n",
        "    return board, values[uphill_row_idx][uphill_col_idx]\n",
        "\n",
        "def stochastic_hill_climbing(board):\n",
        "    \"\"\"Return a board by chosing a random conflict move each iteration.\"\"\"\n",
        "    cur_conflict_val = conflicts(board)\n",
        "    while True:\n",
        "        less_conflicted_board, less_confilict_val = find_random_uphill_move(board, cur_conflict_val)\n",
        "        if less_confilict_val >= cur_conflict_val:\n",
        "            return board # return if found local minimum\n",
        "        \n",
        "        # update board and conflict values \n",
        "        board = less_conflicted_board\n",
        "        cur_conflict_val = less_confilict_val\n",
        "\n",
        "\n",
        "show_board(stochastic_hill_climbing(board))"
      ]
    },
    {
      "cell_type": "markdown",
      "metadata": {
        "id": "L0u8T1eEGdZw"
      },
      "source": [
        "## Task 3: Stochastic Hill Climbing 2 [20 Points]\n",
        "\n",
        "A popular version of stochastic hill climbing generates only a single random local neighbor at a time and accept it if it has a better objective function value than the current state. This is very efficient if each state has many possible successor states. This method is called \"First-choice hill climbing\" in the textbook.\n",
        "\n",
        "__Notes:__\n",
        "\n",
        "* Detecting local optima is tricky! You can, for example, stop if you were not able to improve the objective function during the last $x$ tries."
      ]
    },
    {
      "cell_type": "code",
      "execution_count": 36,
      "metadata": {
        "id": "7C8haFEHGdZw"
      },
      "outputs": [
        {
          "name": "stdout",
          "output_type": "stream",
          "text": [
            "Board with 6 conflicts.\n"
          ]
        },
        {
          "data": {
            "image/png": "[encoded data removed]",
            "text/plain": [
              "<Figure size 640x480 with 1 Axes>"
            ]
          },
          "metadata": {},
          "output_type": "display_data"
        }
      ],
      "source": [
        "# Code and description go here\n",
        "def find_random_neighbor(board):\n",
        "    \"\"\"Find a random neighbor of give board\"\"\"\n",
        "    n = len(board)\n",
        "    while True:\n",
        "        col = np.random.randint(n)\n",
        "        row = np.random.randint(n)\n",
        "        if row != board[col]:\n",
        "            break\n",
        "        # didn't move, continue to pick a random position\n",
        "        \n",
        "    new_board = board.copy()\n",
        "    new_board[col] = row\n",
        "    return new_board\n",
        "\n",
        "def stochastic_hill_climbing_2(board, try_cnt=50):\n",
        "    \"\"\"Return a board by chosing a neighbor of given board at most <try_cnt> time.\"\"\"\n",
        "    cur_conflict_val = conflicts(board)\n",
        "    for _ in range(try_cnt):\n",
        "        new_board = find_random_neighbor(board)\n",
        "        new_board_conflict_val = conflicts(new_board)\n",
        "        if new_board_conflict_val == 0: \n",
        "            break # optimal\n",
        "        if new_board_conflict_val < cur_conflict_val:\n",
        "            # update board and conflict values \n",
        "            board = new_board\n",
        "            cur_conflict_val = new_board_conflict_val\n",
        "    \n",
        "    return new_board\n",
        "\n",
        "show_board(stochastic_hill_climbing_2(board))"
      ]
    },
    {
      "cell_type": "markdown",
      "metadata": {
        "id": "-_arvH8SGdZw"
      },
      "source": [
        "## Task 4: Hill Climbing Search with Random Restarts [10 Points]\n",
        "\n",
        "Hill climbing will often end up in local optima. Restart the each of the three hill climbing algorithm up to 100 times with a random board to find a better (hopefully optimal) solution. Note that restart just means to run the algorithm several times starting with a new random board."
      ]
    },
    {
      "cell_type": "code",
      "execution_count": 7,
      "metadata": {
        "id": "-xg4ie9PGdZw"
      },
      "outputs": [
        {
          "name": "stdout",
          "output_type": "stream",
          "text": [
            "Board with 0 conflicts.\n"
          ]
        },
        {
          "data": {
            "image/png": "[encoded data removed]",
            "text/plain": [
              "<Figure size 640x480 with 1 Axes>"
            ]
          },
          "metadata": {},
          "output_type": "display_data"
        },
        {
          "name": "stdout",
          "output_type": "stream",
          "text": [
            "Board with 0 conflicts.\n"
          ]
        },
        {
          "data": {
            "image/png": "[encoded data removed]",
            "text/plain": [
              "<Figure size 640x480 with 1 Axes>"
            ]
          },
          "metadata": {},
          "output_type": "display_data"
        },
        {
          "name": "stdout",
          "output_type": "stream",
          "text": [
            "Board with 0 conflicts.\n"
          ]
        },
        {
          "data": {
            "image/png": "[encoded data removed]",
            "text/plain": [
              "<Figure size 640x480 with 1 Axes>"
            ]
          },
          "metadata": {},
          "output_type": "display_data"
        }
      ],
      "source": [
        "# Code and description go here\n",
        "\n",
        "def hill_climbing_random_restart(func, n, times=100):\n",
        "    min_conflict = float('inf')\n",
        "    min_conflict_board = None\n",
        "    for _ in range(times):\n",
        "        board = random_board(n)\n",
        "        result_board = func(board) # call the search function\n",
        "        conflict_val = conflicts(result_board)\n",
        "        \n",
        "        if conflict_val < min_conflict: # save the best result\n",
        "            min_conflict = conflict_val\n",
        "            min_conflict_board = result_board\n",
        "    \n",
        "    return min_conflict_board\n",
        "\n",
        "\n",
        "n = 4\n",
        "show_board(hill_climbing_random_restart(steepest_ascend_hill_climbing, n))\n",
        "show_board(hill_climbing_random_restart(stochastic_hill_climbing, n))\n",
        "show_board(hill_climbing_random_restart(stochastic_hill_climbing_2, n))"
      ]
    },
    {
      "cell_type": "markdown",
      "metadata": {
        "id": "3u-8qcEYGdZw"
      },
      "source": [
        "## Task 5: Simulated Annealing [10 Points]\n",
        "\n",
        "Simulated annealing is a form of stochastic hill climbing that avoid local optima by also allowing downhill moves with a probability proportional to a temperature. The temperature is decreased in every iteration following an annealing schedule. You have to experiment with the annealing schedule (Google to find guidance on this).\n",
        "\n",
        "\n",
        "1. Implement simulated annealing for the n-Queens problem.\n",
        "2. Compare the performance with the previous algorithms.\n",
        "2. Discuss your choice of annealing schedule."
      ]
    },
    {
      "cell_type": "code",
      "execution_count": 8,
      "metadata": {
        "id": "Jh9VPGUTGdZw"
      },
      "outputs": [],
      "source": [
        "# Code and description go here\n",
        "\n"
      ]
    },
    {
      "cell_type": "markdown",
      "metadata": {
        "id": "zkcExdsPGdZw"
      },
      "source": [
        "## Task 6: Compare Performance [10 Points]\n",
        "\n",
        "Compare the algorithm using runtime and objective function values. Use boards of size 4 and 8 to explore how the different algorithms perform. Make sure that you run the algorithms for each board size several times (at least 100 times) with different starting boards and report averages.\n",
        "\n",
        "Complete the following table\n",
        "\n",
        "| Algorithm           | Board size | Avg. Run time | Avg. number of conflicts | % of runs ending in optimal solution  |\n",
        "| ------------------- | ---------- | ------------- | --------------------------------- | - |\n",
        "| Steepest asc. HC    |     4      |               |                                   |   |\n",
        "| Stochastic HC 1     |     4      |               |                                   |   |\n",
        "| Stochastic HC 2     |     4      |               |                                   |   |\n",
        "| Simulated Annealing |     4      |               |                                   |   |\n",
        "| Steepest asc. HC    |     8      |               |                                   |   |\n",
        "| Stochastic HC 1     |     8      |               |                                   |   |\n",
        "| Stochastic HC 2     |     8      |               |                                   |   |\n",
        "| Simulated Annealing |     8      |               |                                   |   |\n",
        "\n",
        "\n",
        "Add the used code and the answer to the following questions below.\n",
        "\n",
        "* How do the algorithms scale with problem size? You will need to run more board sizes. You can add the results to the table above and show the result as a chart.\n",
        "\n",
        "* What is the largest board each algorithm can solve in a reasonable amount time?\n",
        "\n",
        "Hint: See [Profiling Python Code](../HOWTOs/profiling_code.ipynb) for help about how to measure runtime in Python."
      ]
    },
    {
      "cell_type": "code",
      "execution_count": 59,
      "metadata": {
        "id": "dojLZK30GdZw"
      },
      "outputs": [
        {
          "data": {
            "text/html": [
              "<div>\n",
              "<style scoped>\n",
              "    .dataframe tbody tr th:only-of-type {\n",
              "        vertical-align: middle;\n",
              "    }\n",
              "\n",
              "    .dataframe tbody tr th {\n",
              "        vertical-align: top;\n",
              "    }\n",
              "\n",
              "    .dataframe thead th {\n",
              "        text-align: right;\n",
              "    }\n",
              "</style>\n",
              "<table border=\"1\" class=\"dataframe\">\n",
              "  <thead>\n",
              "    <tr style=\"text-align: right;\">\n",
              "      <th></th>\n",
              "      <th>Algorithm</th>\n",
              "      <th>Board size</th>\n",
              "      <th>Avg. Run time</th>\n",
              "      <th>Avg. number of conflicts</th>\n",
              "      <th>% of runs ending in optimal solution</th>\n",
              "    </tr>\n",
              "  </thead>\n",
              "  <tbody>\n",
              "    <tr>\n",
              "      <th>0</th>\n",
              "      <td>Steepest asc. HC</td>\n",
              "      <td>4</td>\n",
              "      <td>0.002937</td>\n",
              "      <td>2.7</td>\n",
              "      <td>0.0%</td>\n",
              "    </tr>\n",
              "    <tr>\n",
              "      <th>1</th>\n",
              "      <td>Stochastic HC 1</td>\n",
              "      <td>4</td>\n",
              "      <td>0.002407</td>\n",
              "      <td>2.9</td>\n",
              "      <td>0.0%</td>\n",
              "    </tr>\n",
              "    <tr>\n",
              "      <th>2</th>\n",
              "      <td>Stochastic HC 2</td>\n",
              "      <td>4</td>\n",
              "      <td>0.002711</td>\n",
              "      <td>1.6</td>\n",
              "      <td>30.0%</td>\n",
              "    </tr>\n",
              "    <tr>\n",
              "      <th>3</th>\n",
              "      <td>Steepest asc. HC</td>\n",
              "      <td>8</td>\n",
              "      <td>0.008511</td>\n",
              "      <td>4.7</td>\n",
              "      <td>0.0%</td>\n",
              "    </tr>\n",
              "    <tr>\n",
              "      <th>4</th>\n",
              "      <td>Stochastic HC 1</td>\n",
              "      <td>8</td>\n",
              "      <td>0.004566</td>\n",
              "      <td>4.3</td>\n",
              "      <td>0.0%</td>\n",
              "    </tr>\n",
              "    <tr>\n",
              "      <th>5</th>\n",
              "      <td>Stochastic HC 2</td>\n",
              "      <td>8</td>\n",
              "      <td>0.001474</td>\n",
              "      <td>4.2</td>\n",
              "      <td>0.0%</td>\n",
              "    </tr>\n",
              "    <tr>\n",
              "      <th>6</th>\n",
              "      <td>Steepest asc. HC</td>\n",
              "      <td>16</td>\n",
              "      <td>0.024641</td>\n",
              "      <td>12.0</td>\n",
              "      <td>0.0%</td>\n",
              "    </tr>\n",
              "    <tr>\n",
              "      <th>7</th>\n",
              "      <td>Stochastic HC 1</td>\n",
              "      <td>16</td>\n",
              "      <td>0.033283</td>\n",
              "      <td>11.3</td>\n",
              "      <td>0.0%</td>\n",
              "    </tr>\n",
              "    <tr>\n",
              "      <th>8</th>\n",
              "      <td>Stochastic HC 2</td>\n",
              "      <td>16</td>\n",
              "      <td>0.001983</td>\n",
              "      <td>8.1</td>\n",
              "      <td>0.0%</td>\n",
              "    </tr>\n",
              "    <tr>\n",
              "      <th>9</th>\n",
              "      <td>Steepest asc. HC</td>\n",
              "      <td>32</td>\n",
              "      <td>0.312788</td>\n",
              "      <td>35.3</td>\n",
              "      <td>0.0%</td>\n",
              "    </tr>\n",
              "    <tr>\n",
              "      <th>10</th>\n",
              "      <td>Stochastic HC 1</td>\n",
              "      <td>32</td>\n",
              "      <td>0.389437</td>\n",
              "      <td>32.0</td>\n",
              "      <td>0.0%</td>\n",
              "    </tr>\n",
              "    <tr>\n",
              "      <th>11</th>\n",
              "      <td>Stochastic HC 2</td>\n",
              "      <td>32</td>\n",
              "      <td>0.010607</td>\n",
              "      <td>17.8</td>\n",
              "      <td>0.0%</td>\n",
              "    </tr>\n",
              "    <tr>\n",
              "      <th>12</th>\n",
              "      <td>Steepest asc. HC</td>\n",
              "      <td>64</td>\n",
              "      <td>2.785847</td>\n",
              "      <td>65.7</td>\n",
              "      <td>0.0%</td>\n",
              "    </tr>\n",
              "    <tr>\n",
              "      <th>13</th>\n",
              "      <td>Stochastic HC 1</td>\n",
              "      <td>64</td>\n",
              "      <td>1.660117</td>\n",
              "      <td>72.9</td>\n",
              "      <td>0.0%</td>\n",
              "    </tr>\n",
              "    <tr>\n",
              "      <th>14</th>\n",
              "      <td>Stochastic HC 2</td>\n",
              "      <td>64</td>\n",
              "      <td>0.006605</td>\n",
              "      <td>50.3</td>\n",
              "      <td>0.0%</td>\n",
              "    </tr>\n",
              "  </tbody>\n",
              "</table>\n",
              "</div>"
            ],
            "text/plain": [
              "           Algorithm  Board size  Avg. Run time  Avg. number of conflicts  \\\n",
              "0   Steepest asc. HC           4       0.002937                       2.7   \n",
              "1    Stochastic HC 1           4       0.002407                       2.9   \n",
              "2    Stochastic HC 2           4       0.002711                       1.6   \n",
              "3   Steepest asc. HC           8       0.008511                       4.7   \n",
              "4    Stochastic HC 1           8       0.004566                       4.3   \n",
              "5    Stochastic HC 2           8       0.001474                       4.2   \n",
              "6   Steepest asc. HC          16       0.024641                      12.0   \n",
              "7    Stochastic HC 1          16       0.033283                      11.3   \n",
              "8    Stochastic HC 2          16       0.001983                       8.1   \n",
              "9   Steepest asc. HC          32       0.312788                      35.3   \n",
              "10   Stochastic HC 1          32       0.389437                      32.0   \n",
              "11   Stochastic HC 2          32       0.010607                      17.8   \n",
              "12  Steepest asc. HC          64       2.785847                      65.7   \n",
              "13   Stochastic HC 1          64       1.660117                      72.9   \n",
              "14   Stochastic HC 2          64       0.006605                      50.3   \n",
              "\n",
              "   % of runs ending in optimal solution  \n",
              "0                                  0.0%  \n",
              "1                                  0.0%  \n",
              "2                                 30.0%  \n",
              "3                                  0.0%  \n",
              "4                                  0.0%  \n",
              "5                                  0.0%  \n",
              "6                                  0.0%  \n",
              "7                                  0.0%  \n",
              "8                                  0.0%  \n",
              "9                                  0.0%  \n",
              "10                                 0.0%  \n",
              "11                                 0.0%  \n",
              "12                                 0.0%  \n",
              "13                                 0.0%  \n",
              "14                                 0.0%  "
            ]
          },
          "execution_count": 59,
          "metadata": {},
          "output_type": "execute_result"
        }
      ],
      "source": [
        "# Code, results, charts and discussion go here\n",
        "import pandas as pd\n",
        "import time\n",
        "columns = ['Algorithm', 'Board size', 'Avg. Run time', 'Avg. number of conflicts', '% of runs ending in optimal solution']\n",
        "algos = {'Steepest asc. HC': steepest_ascend_hill_climbing,\n",
        "         'Stochastic HC 1': stochastic_hill_climbing,\n",
        "         'Stochastic HC 2': stochastic_hill_climbing_2, \n",
        "         #'Simulated Annealing' : ,\n",
        "         }\n",
        "\n",
        "table = []\n",
        "board_sizes = [4,8,16,32, 64]\n",
        "for n in board_sizes:\n",
        "    for algo_name, algo in algos.items():\n",
        "        conflict_vals, run_times, num_optimal = [], [], 0\n",
        "        for _ in range(10):\n",
        "            board = random_board(n)\n",
        "            start_time = time.time()\n",
        "            new_board = algo(board)\n",
        "            used_time = time.time() - start_time\n",
        "            conflict_val = conflicts(new_board)\n",
        "            num_optimal += 1 if conflict_val == 0 else 0\n",
        "            conflict_vals.append(conflict_val)\n",
        "            run_times.append(used_time)\n",
        "            \n",
        "        table.append([algo_name, n, np.mean(run_times), np.mean(conflict_vals), f\"{100*num_optimal/len(conflict_vals)}%\"])\n",
        "\n",
        "df = pd.DataFrame(table, columns=columns)\n",
        "df"
      ]
    },
    {
      "cell_type": "code",
      "execution_count": 67,
      "metadata": {},
      "outputs": [
        {
          "data": {
            "image/png": "[encoded data removed]",
            "text/plain": [
              "<Figure size 640x480 with 1 Axes>"
            ]
          },
          "metadata": {},
          "output_type": "display_data"
        }
      ],
      "source": [
        "import matplotlib.pyplot as plt\n",
        "\n",
        "x = range(len(board_sizes))\n",
        "num_algo = len(algos)\n",
        "for idx, algo_name in enumerate(algos):\n",
        "    y = df.loc[range(idx, df.shape[0], num_algo), 'Avg. Run time']\n",
        "    plt.plot(x, y, label = algo_name)\n",
        "\n",
        "plt.xticks(x, board_sizes)\n",
        "plt.legend()\n",
        "plt.xlabel('Board Size')\n",
        "plt.ylabel('Run time(ms)')\n",
        "plt.title(\"Avg. Run time\");"
      ]
    },
    {
      "cell_type": "markdown",
      "metadata": {},
      "source": [
        "As the graph shown above, "
      ]
    },
    {
      "cell_type": "markdown",
      "metadata": {
        "id": "qXy1RoNTGdZw"
      },
      "source": [
        "## Advanced task: Exploring other Local Moves\n",
        "\n",
        "* __Graduate students__ need to complete this task [10 points]\n",
        "* __Undergraduate students__ can attempt this as a bonus task [max +5 bonus points].\n",
        "\n",
        "Implement a few different local moves. Implement:\n",
        "\n",
        "* moving one queen only one square at a time\n",
        "* switching two columns\n",
        "* move two queens at a time\n",
        "\n",
        "Compare the performance of these moves for the 8-Queens problem using your stochastic hill climbing 2 implementation from above. Also consider mixing the use of several types of local moves (e.g., move one queen and moving two queens).\n",
        "\n",
        "Describe what you find out about how well these moves and combinations of these moves work."
      ]
    },
    {
      "cell_type": "code",
      "execution_count": null,
      "metadata": {
        "id": "b35Y_q3vGdZw",
        "tags": []
      },
      "outputs": [],
      "source": [
        "# Code and description go here"
      ]
    },
    {
      "cell_type": "markdown",
      "metadata": {
        "id": "WSCMbBJtGdZw"
      },
      "source": [
        "## More things to do\n",
        "\n",
        "Implement a Genetic Algorithm for the n-Queens problem."
      ]
    },
    {
      "cell_type": "code",
      "execution_count": null,
      "metadata": {
        "id": "PMk0MmuqGdZw",
        "tags": []
      },
      "outputs": [],
      "source": [
        "# Code and description go here"
      ]
    }
  ],
  "metadata": {
    "colab": {
      "provenance": []
    },
    "kernelspec": {
      "display_name": "Python 3 (ipykernel)",
      "language": "python",
      "name": "python3"
    },
    "language_info": {
      "codemirror_mode": {
        "name": "ipython",
        "version": 3
      },
      "file_extension": ".py",
      "mimetype": "text/x-python",
      "name": "python",
      "nbconvert_exporter": "python",
      "pygments_lexer": "ipython3",
      "version": "3.11.5"
    },
    "toc-autonumbering": false,
    "toc-showcode": false,
    "toc-showmarkdowntxt": false,
    "toc-showtags": false
  },
  "nbformat": 4,
  "nbformat_minor": 0
}
