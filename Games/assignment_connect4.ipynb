{
  "cells": [
    {
      "cell_type": "markdown",
      "metadata": {
        "id": "-LNvTk3C9_v-"
      },
      "source": [
        "# Adversarial Search: Playing Connect 4\n",
        "\n",
        "Student Name: Chuanqi Deng\n",
        "\n",
        "I have used the following AI tools: ChatGPT\n",
        "\n",
        "I understand that my submission needs to be my own work: CD\n",
        "\n",
        "## Instructions\n",
        "\n",
        "Total Points: Undegraduates 100, graduate students 110\n",
        "\n",
        "Complete this notebook and submit it. The notebook needs to be a complete project report with your implementation, documentation including a short discussion of how your implementation works and your design choices, and experimental results (e.g., tables and charts with simulation results) with a short discussion of what they mean. Use the provided notebook cells and insert additional code and markdown cells as needed.\n",
        "\n",
        "## Introduction\n",
        "\n",
        "You will implement different versions of agents that play Connect 4:\n",
        "\n",
        "> \"Connect 4 is a two-player connection board game, in which the players choose a color and then take turns dropping colored discs into a seven-column, six-row vertically suspended grid. The pieces fall straight down, occupying the lowest available space within the column. The objective of the game is to be the first to form a horizontal, vertical, or diagonal line of four of one's own discs.\" (see [Connect Four on Wikipedia](https://en.wikipedia.org/wiki/Connect_Four))\n",
        "\n",
        "Note that [Connect-4 has been solved](https://en.wikipedia.org/wiki/Connect_Four#Mathematical_solution)\n",
        "in 1988. A connect-4 solver with a discussion of how to solve different parts of the problem can be found here: https://connect4.gamesolver.org/en/"
      ]
    },
    {
      "cell_type": "markdown",
      "metadata": {
        "id": "ZqiaBVq79_wA"
      },
      "source": [
        "## Task 1: Defining the Search Problem [10 point]\n",
        "\n",
        "Define the components of the search problem:\n",
        "\n",
        "* Initial state\n",
        "* Actions\n",
        "* Transition model (result function)\n",
        "* Goal state (terminal state and utility)"
      ]
    },
    {
      "cell_type": "markdown",
      "metadata": {},
      "source": [
        "* Initial state:  Empty 6*7 board\n",
        "* Actions: Drop a disc into a column which is not full.\n",
        "* Transition model (result function):  s' = result(a, s). When a player drops a disc into a column, it falls to the lowest available position in that column. If the column is full, the player cannot drop a disc into it, and they must choose a different column.\n",
        "* Goal state (terminal state and utility): A player's 4 discs formed a horizontal, vertical, or diagonal line. A win has a utility of 1, a loss has a utility of -1, and a draw has a utility of 0."
      ]
    },
    {
      "cell_type": "markdown",
      "metadata": {
        "id": "iVEQicQq9_wB"
      },
      "source": [
        "How big is the state space? Give an estimate and explain it."
      ]
    },
    {
      "cell_type": "markdown",
      "metadata": {},
      "source": [
        "For each cell on the game board, there are 3 possibilities: empty, filled with a disc from Player 1, or filled with a disc from Player 2.\\\n",
        "So, for each column, there are 3^6 possible combinations (including the possibility of all cells being empty).\\\n",
        "Since there are 7 columns, we multiply 3^6 by itself 7 times to get the total number of possible game states.\\\n",
        "Therefore, the state space is 3^(6*7) = 3^42."
      ]
    },
    {
      "cell_type": "markdown",
      "metadata": {
        "id": "E0oOJCl_9_wB"
      },
      "source": [
        "How big is the game tree that minimax search will go through? Give an estimate and explain it."
      ]
    },
    {
      "cell_type": "markdown",
      "metadata": {},
      "source": [
        "At the first level of the tree (initial state), there are 7 possible moves.\\\n",
        "At the second level, assuming all columns are available, there are 6 possible moves for the opponent (one less because the column chosen by the first player is now unavailable).\\\n",
        "At the third level, there are again 7 possible moves for the first player.\\\n",
        "This pattern continues, alternating between 7 and 6 possible moves at each level until the game ends or reaches a terminal state.\\\n",
        "The average branching factor can be estimated as the average of 7 and 6, which is approximately 6.5.\\\n",
        "\n",
        "The maximum number of moves until the game ends is 42 (6 rows x 7 columns).\n",
        "Using the average branching factor and the depth of 42 moves, we can estimate the size of the game tree as approximately 6.5^42.\n",
        "Minimax search traverses the complete game tree."
      ]
    },
    {
      "cell_type": "markdown",
      "metadata": {
        "id": "G21Ssm4Z9_wC"
      },
      "source": [
        "## Task 2: Game Environment and Random Agent [25 point]\n",
        "\n",
        "Use a numpy character array as the board."
      ]
    },
    {
      "cell_type": "code",
      "execution_count": 13,
      "metadata": {
        "id": "FUnq0R159_wC",
        "outputId": "d8a26c20-97cf-4a53-b8e7-87cc6db4f567"
      },
      "outputs": [
        {
          "name": "stdout",
          "output_type": "stream",
          "text": [
            "[[0 0 0 0 0 0 0]\n",
            " [0 0 0 0 0 0 0]\n",
            " [0 0 0 0 0 0 0]\n",
            " [0 0 0 0 0 0 0]\n",
            " [0 0 0 0 0 0 0]\n",
            " [0 0 0 0 0 0 0]]\n"
          ]
        }
      ],
      "source": [
        "import numpy as np\n",
        "\n",
        "def empty_board(shape=(6, 7)):\n",
        "    return np.full(shape=shape, fill_value=0)\n",
        "\n",
        "print(empty_board())"
      ]
    },
    {
      "cell_type": "markdown",
      "metadata": {
        "id": "X3RC3Omw9_wD"
      },
      "source": [
        "The standard board is $6 \\times 7$ but you can use smaller boards to test your code. Instead of colors (red and yellow), I use 1 and -1 to represent the players. Make sure that your agent functions all have the from: `agent_type(board, player = 1)`, where board is the current board position (in the format above) and player is the player whose next move it is and who the agent should play (as 1 and -1)."
      ]
    },
    {
      "cell_type": "code",
      "execution_count": 14,
      "metadata": {
        "id": "uKpohDus9_wD",
        "outputId": "012e56ca-ac25-4e87-93fc-c9f8c5782984",
        "tags": []
      },
      "outputs": [
        {
          "data": {
            "image/png": "[encoded data removed]",
            "text/plain": [
              "<Figure size 640x480 with 1 Axes>"
            ]
          },
          "metadata": {},
          "output_type": "display_data"
        }
      ],
      "source": [
        "# Visualization code by Randolph Rankin\n",
        "\n",
        "import matplotlib.pyplot as plt\n",
        "\n",
        "def visualize(board):\n",
        "    plt.axes()\n",
        "    rectangle=plt.Rectangle((-0.5,len(board)*-1+0.5),len(board[0]),len(board),fc='blue')\n",
        "    circles=[]\n",
        "    for i,row in enumerate(board):\n",
        "        for j,val in enumerate(row):\n",
        "            color='white' if val==0 else 'red' if val==1 else 'yellow'\n",
        "            circles.append(plt.Circle((j,i*-1),0.4,fc=color))\n",
        "\n",
        "    plt.gca().add_patch(rectangle)\n",
        "    for circle in circles:\n",
        "        plt.gca().add_patch(circle)\n",
        "\n",
        "    plt.axis('scaled')\n",
        "    plt.show()\n",
        "\n",
        "board = [[0, 0, 0, 0, 0, 0, 0],\n",
        "         [0, 0, 0, 0, 0, 0, 0],\n",
        "         [0, 0, 0, 0, 0, 0, 0],\n",
        "         [0, 1, -1, 1, 0, 0, 0],\n",
        "         [0, 1, 1, -1, 0, 0, 0],\n",
        "         [0, 1,-1, 1, -1, 0, 0]]\n",
        "visualize(board)"
      ]
    },
    {
      "cell_type": "markdown",
      "metadata": {
        "id": "OSof4v5L9_wD",
        "tags": []
      },
      "source": [
        "Implement helper functions for:\n",
        "\n",
        "* A check for available actions in each state `actions(s)`.\n",
        "* The transition model `result(s, a)`.\n",
        "* Check for terminal states `terminal(s)`.\n",
        "* The utility function `utility(s)`.\n",
        "\n",
        "Make sure that all these functions work with boards of different sizes (number of columns and rows)."
      ]
    },
    {
      "cell_type": "code",
      "execution_count": 23,
      "metadata": {
        "id": "Q110Di8r9_wD"
      },
      "outputs": [],
      "source": [
        "# Your code/ answer goes here.\n",
        "def actions(s):\n",
        "    \"\"\"return non-full column index \"\"\"\n",
        "    NUM_COL = len(s[0])\n",
        "    s_np = np.array(s)\n",
        "    \n",
        "    ret = []\n",
        "    for col in range(NUM_COL):\n",
        "        num_empty = len(np.where(s_np[:, col] == 0)[0])\n",
        "        if num_empty > 0:\n",
        "            ret.append(col)\n",
        "    \n",
        "    return ret\n",
        "    \n",
        "    \n",
        "def result(s, a, player = 1):\n",
        "    \"\"\"return state based on given action\"\"\"\n",
        "    s_np = np.array(s)\n",
        "    NUM_ROW = len(s)\n",
        "    for row in range(NUM_ROW-1, -1, -1):\n",
        "        if s_np[row][a] == 0:\n",
        "            s_np[row][a] = player\n",
        "            break\n",
        "            \n",
        "    return s_np\n",
        "\n",
        "def four_connected(l):\n",
        "    \"\"\"check if four same discs connected horizontally, vertically, or diagonally.\"\"\"\n",
        "    cnt = 0\n",
        "    player = 0\n",
        "    for i in l:\n",
        "        if i == 0:\n",
        "            cnt = 0\n",
        "            player = 0\n",
        "        elif i == player:\n",
        "            cnt += 1\n",
        "        else:\n",
        "            player = i\n",
        "            cnt = 1\n",
        "\n",
        "        if cnt == 4:\n",
        "            return player\n",
        "    return 0\n",
        "\n",
        "def check_diagnals(board):\n",
        "    \"\"\"check if there any diagonal is connected\"\"\"\n",
        "    k = 0\n",
        "    while True:\n",
        "        diag = np.diag(board, k)\n",
        "        if len(diag) < 4: break\n",
        "        ret = four_connected(diag)\n",
        "        if ret != 0: return ret\n",
        "        k+=1\n",
        "        \n",
        "    k = -1\n",
        "    while True:\n",
        "        diag = np.diag(board, k)\n",
        "        if len(diag) < 4: break\n",
        "        ret = four_connected(diag)\n",
        "        if ret != 0: return ret\n",
        "        k-=1\n",
        "    return 0\n",
        "\n",
        "def terminal(s):\n",
        "    \"\"\"check if s is terminal state\"\"\"\n",
        "    s_np_t = np.transpose(s)\n",
        "    s_np_flip = np.fliplr(s)\n",
        "\n",
        "    NUM_ROW = len(s)\n",
        "    for row in range(NUM_ROW):\n",
        "        ret = four_connected(s[row])\n",
        "        if ret != 0: return True\n",
        "        \n",
        "    NUM_ROW = s_np_t.shape[0]\n",
        "    for row in range(NUM_ROW):\n",
        "        ret = four_connected(s_np_t[row])\n",
        "        if ret != 0: return True\n",
        "    \n",
        "    if check_diagnals(s) != 0: return True\n",
        "    if check_diagnals(s_np_flip) != 0: return True\n",
        "\n",
        "    if len(np.where(np.array(s) == 0)[0]) == 0:\n",
        "        return True # 'draw'\n",
        "    \n",
        "    return False\n",
        "    \n",
        "def utility(s):\n",
        "    \"\"\"return the uility of the board\"\"\"\n",
        "    s_np_t = np.transpose(s)\n",
        "    s_np_flip = np.fliplr(s)\n",
        "\n",
        "    NUM_ROW = len(s)\n",
        "    for row in range(NUM_ROW):\n",
        "        ret = four_connected(s[row])\n",
        "        if ret != 0: return ret\n",
        "        \n",
        "    NUM_ROW = s_np_t.shape[0]\n",
        "    for row in range(NUM_ROW):\n",
        "        ret = four_connected(s_np_t[row])\n",
        "        if ret != 0: return ret\n",
        "    \n",
        "    ret = check_diagnals(s)\n",
        "    if ret != 0: return ret\n",
        "    ret = check_diagnals(s_np_flip)\n",
        "    if ret != 0: return ret\n",
        "\n",
        "    if len(np.where(np.array(s) == 0)[0]) == 0:\n",
        "        return 0\n",
        "    \n",
        "    raise Exception('Not in terminal state')"
      ]
    },
    {
      "cell_type": "markdown",
      "metadata": {
        "id": "UNf_76NU9_wD"
      },
      "source": [
        "Implement an agent that plays randomly. Make sure the agent function receives as the percept the board and returns a valid action. Use an agent function definition with the following signature (arguments):\n",
        "\n",
        "`def random_player(board, player = 1): ...`\n",
        "\n",
        "The argument `player` is used for agents that do not store what color they are playing. The value passed on by the environment should be 1 ot -1 for player red and yellow, respectively.  See [Experiments section for tic-tac-toe](https://nbviewer.org/github/mhahsler/CS7320-AI/blob/master/Games/tictactoe_and_or_tree_search.ipynb#Experiments) for an example."
      ]
    },
    {
      "cell_type": "code",
      "execution_count": 16,
      "metadata": {
        "id": "yC84sry79_wD"
      },
      "outputs": [],
      "source": [
        "# Your code/ answer goes here.\n",
        "def random_player(board, player = 1):\n",
        "    return np.random.choice(actions(board))"
      ]
    },
    {
      "cell_type": "markdown",
      "metadata": {
        "id": "BMygwnky9_wD"
      },
      "source": [
        "Let two random agents play against each other 1000 times. Look at the [Experiments section for tic-tac-toe](https://nbviewer.org/github/mhahsler/CS7320-AI/blob/master/Games/tictactoe_and_or_tree_search.ipynb#Experiments) to see how the environment uses the agent functions to play against each other.\n",
        "\n",
        "How often does each player win? Is the result expected?"
      ]
    },
    {
      "cell_type": "code",
      "execution_count": 30,
      "metadata": {
        "id": "NioCNEXZ9_wD",
        "tags": []
      },
      "outputs": [
        {
          "data": {
            "text/plain": [
              "{1: 545, -1: 454, 0: 1}"
            ]
          },
          "execution_count": 30,
          "metadata": {},
          "output_type": "execute_result"
        }
      ],
      "source": [
        "# Your code/ answer goes here.\n",
        "def switch_player(player, player1, palyer2):\n",
        "    if player == 1:\n",
        "        return -1, palyer2\n",
        "    else:\n",
        "        return 1, player1\n",
        "\n",
        "def play(player1, palyer2, N = 1000):\n",
        "    \"\"\"Let two agents play each other N times. 1 starts. player1 and palyer2 are agent functions that \n",
        "    get the board as the percept and return their next action.\"\"\"\n",
        "    results = {1: 0, -1: 0, 0: 0}\n",
        "    \n",
        "    for _ in range(N):\n",
        "        board = empty_board()\n",
        "        player, fun = 1, player1\n",
        "        \n",
        "        while not terminal(board):\n",
        "            a = fun(board, player)\n",
        "            board = result(board, a, player)\n",
        "            player, fun = switch_player(player, player1, palyer2)   \n",
        "            \n",
        "        win = utility(board)   # returns the 'n' if the game is not done.\n",
        "        results[win] += 1\n",
        "\n",
        "    return results\n",
        "\n",
        "play(random_player, random_player)"
      ]
    },
    {
      "cell_type": "markdown",
      "metadata": {
        "id": "4AMhgWGA9_wD"
      },
      "source": [
        "## Task 3: Minimax Search with Alpha-Beta Pruning\n",
        "\n",
        "### Implement the Search [20 points]\n",
        "\n",
        "Implement minimax search starting from a given board for specifying the player.\n",
        "You can use code from the [tic-tac-toe example](https://nbviewer.org/github/mhahsler/CS7320-AI/blob/master/Games/tictactoe_alpha_beta_tree_search.ipynb).\n",
        "\n",
        "__Important Notes:__\n",
        "* Make sure that all your agent functions have a signature consistent with the random agent above and that it [uses a class to store state information.](https://nbviewer.org/github/mhahsler/CS7320-AI/blob/master/HOWTOs/store_agent_state_information.ipynb)\n",
        "This is essential to be able play against agents from other students later.\n",
        "* The search space for a $6 \\times 7$ board is large. You can experiment with smaller boards (the smallest is $4 \\times 4$) and/or changing the winning rule to connect 3 instead of 4."
      ]
    },
    {
      "cell_type": "code",
      "execution_count": null,
      "metadata": {
        "id": "ccnCCWOI9_wD"
      },
      "outputs": [],
      "source": [
        "# Your code/ answer goes here.\n",
        "DEBUG = 1 # 1 ... count nodes, 2 ... debug each node\n",
        "COUNT = 0\n",
        "\n",
        "def minimax_search(board, player = 'x'):\n",
        "    \"\"\"start the search.\"\"\"\n",
        "    global DEBUG, COUNT\n",
        "    COUNT = 0\n",
        "    \n",
        "    value, move = max_value(board, player)\n",
        "    \n",
        "    if DEBUG >= 1: print(f\"Number of nodes searched: {COUNT}\") \n",
        " \n",
        "    return { \"move\": move, \"value\": value}\n",
        "\n",
        "def max_value(state, player):\n",
        "    \"\"\"player's best move.\"\"\"\n",
        "    global DEBUG, COUNT\n",
        "    COUNT += 1\n",
        "    \n",
        "    # return utility of state if it is a terminal state\n",
        "    v = utility(state, player)\n",
        "    if DEBUG >= 2: print(\"max in: \" + str(state) + str([v]) ) \n",
        "    if v is not None: return v, None\n",
        "        \n",
        "    v, move = -math.inf, None\n",
        "\n",
        "    # check all possible actions in the state, return move with the largest value\n",
        "    for a in actions(state):\n",
        "        v2, a2 = min_value(result(state, player, a), player)\n",
        "        if v2 > v:\n",
        "            v, move = v2, a\n",
        "    \n",
        "    if DEBUG >= 2: print(\"max out: \" + str(state) + str([v, move]) ) \n",
        "    return v, move\n",
        "\n",
        "def min_value(state, player):\n",
        "    \"\"\"opponent's best response.\"\"\"\n",
        "    global DEBUG, COUNT\n",
        "    COUNT += 1\n",
        "    \n",
        "    # return utility of state if it is a terminal state\n",
        "    v = utility(state, player)\n",
        "    if DEBUG >= 2: print(\"min in: \" + str(state) + str([v]) ) \n",
        "    if v is not None: return v, None\n",
        "    \n",
        "    v, move = +math.inf, None\n",
        "\n",
        "    # check all possible actions in the state, return move with the smallest value\n",
        "    for a in actions(state):\n",
        "        v2, a2 = max_value(result(state, other(player), a), player)\n",
        "        if v2 < v:\n",
        "            v, move = v2, a\n",
        "    \n",
        "    if DEBUG >= 2: print(\"min out: \" + str(state) + str([v, move]) ) \n",
        "    return v, move"
      ]
    },
    {
      "cell_type": "markdown",
      "metadata": {
        "id": "PKFr-sdd9_wE"
      },
      "source": [
        "Experiment with some manually created boards (at least 5) to check if the agent spots winning opportunities."
      ]
    },
    {
      "cell_type": "code",
      "execution_count": null,
      "metadata": {
        "id": "vo-10JDU9_wE"
      },
      "outputs": [],
      "source": [
        "# Your code/ answer goes here."
      ]
    },
    {
      "cell_type": "markdown",
      "metadata": {
        "id": "CmuLQBkl9_wE"
      },
      "source": [
        "How long does it take to make a move? Start with a smaller board with 4 columns and make the board larger by adding columns."
      ]
    },
    {
      "cell_type": "code",
      "execution_count": null,
      "metadata": {
        "id": "Z_w0mmdr9_wE"
      },
      "outputs": [],
      "source": [
        "# Your code/ answer goes here."
      ]
    },
    {
      "cell_type": "markdown",
      "metadata": {
        "id": "q8LtIBE89_wE"
      },
      "source": [
        "### Move ordering [5 points]\n",
        "\n",
        "Starting the search with better moves will increase the efficiency of alpha-beta pruning. Describe and implement a simple move ordering strategy. Make a table that shows how the ordering strategies influence the time it takes to make a move?"
      ]
    },
    {
      "cell_type": "code",
      "execution_count": null,
      "metadata": {
        "id": "AeKcs_lR9_wE"
      },
      "outputs": [],
      "source": [
        "# Your code/ answer goes here."
      ]
    },
    {
      "cell_type": "markdown",
      "metadata": {
        "id": "Vt2N8X-39_wE"
      },
      "source": [
        "### The first few moves [5 points]\n",
        "\n",
        "Start with an empty board. This is the worst case scenario for minimax search since it needs solve all possible games that can be played (minus some pruning) before making the decision. What can you do?"
      ]
    },
    {
      "cell_type": "code",
      "execution_count": null,
      "metadata": {
        "id": "0Uw8i7Pm9_wE"
      },
      "outputs": [],
      "source": [
        "# Your code/ answer goes here."
      ]
    },
    {
      "cell_type": "markdown",
      "metadata": {
        "id": "fgf6RC9Z9_wE"
      },
      "source": [
        "### Playtime [5 points]\n",
        "\n",
        "Let the Minimax Search agent play a random agent on a small board. Analyze wins, losses and draws."
      ]
    },
    {
      "cell_type": "code",
      "execution_count": null,
      "metadata": {
        "id": "_FEa4V589_wE"
      },
      "outputs": [],
      "source": [
        "# Your code/ answer goes here."
      ]
    },
    {
      "cell_type": "markdown",
      "metadata": {
        "id": "mg2nPMfE9_wE"
      },
      "source": [
        "## Task 4: Heuristic Alpha-Beta Tree Search\n",
        "\n",
        "### Heuristic evaluation function [15 points]\n",
        "\n",
        "Define and implement a heuristic evaluation function."
      ]
    },
    {
      "cell_type": "code",
      "execution_count": null,
      "metadata": {
        "id": "ED6YeQwh9_wE"
      },
      "outputs": [],
      "source": [
        "# Your code/ answer goes here."
      ]
    },
    {
      "cell_type": "markdown",
      "metadata": {
        "id": "Fk0Li5029_wE"
      },
      "source": [
        "### Cutting Off Search [10 points]\n",
        "\n",
        "Modify your minimax search with alpha-beta pruning to cut off search at a specified depth and use the heuristic evaluation function. Experiment with different cutoff values."
      ]
    },
    {
      "cell_type": "code",
      "execution_count": null,
      "metadata": {
        "id": "OFxoIqni9_wE"
      },
      "outputs": [],
      "source": [
        "# Your code/ answer goes here."
      ]
    },
    {
      "cell_type": "markdown",
      "metadata": {
        "id": "CPqW7Drp9_wE"
      },
      "source": [
        "Experiment with the same manually created boards as above to check if the agent spots wining opportunities."
      ]
    },
    {
      "cell_type": "code",
      "execution_count": null,
      "metadata": {
        "id": "9sgpdC-L9_wE"
      },
      "outputs": [],
      "source": [
        "# Your code/ answer goes here."
      ]
    },
    {
      "cell_type": "markdown",
      "metadata": {
        "id": "08pRc_m29_wE"
      },
      "source": [
        "How long does it take to make a move? Start with a smaller board with 4 columns and make the board larger by adding columns."
      ]
    },
    {
      "cell_type": "code",
      "execution_count": null,
      "metadata": {
        "id": "5fZARdf79_wE"
      },
      "outputs": [],
      "source": [
        "# Your code/ answer goes here."
      ]
    },
    {
      "cell_type": "markdown",
      "metadata": {
        "id": "_D3So-cG9_wE"
      },
      "source": [
        "### Playtime [5 points]\n",
        "\n",
        "Let two heuristic search agents (different cutoff depth, different heuristic evaluation function) compete against each other on a reasonably sized board. Since there is no randomness, you only need to let them play once."
      ]
    },
    {
      "cell_type": "code",
      "execution_count": null,
      "metadata": {
        "id": "nsA0IjfC9_wE"
      },
      "outputs": [],
      "source": [
        "# Your code/ answer goes here."
      ]
    },
    {
      "cell_type": "markdown",
      "metadata": {
        "id": "eKSuDP7x9_wI"
      },
      "source": [
        "## Challenge task [up to +10 bonus point will be awarded separately]\n",
        "\n",
        "Find another student and let your best agent play against the other student's best player. We will set up a class tournament on Canvas. This tournament will continue after the submission deadline."
      ]
    },
    {
      "cell_type": "markdown",
      "metadata": {
        "id": "wzXTZv639_wI"
      },
      "source": [
        "## Graduate student advanced task: Pure Monte Carlo Search and Best First Move [10 point]\n",
        "\n",
        "__Undergraduate students:__ This is a bonus task you can attempt if you like [+5 bonus point].\n",
        "\n",
        "### Pure Monte Carlo Search\n",
        "\n",
        "Implement Pure Monte Carlo Search and investigate how this search performs on the test boards that you have used above."
      ]
    },
    {
      "cell_type": "code",
      "execution_count": null,
      "metadata": {
        "id": "u189giXd9_wI"
      },
      "outputs": [],
      "source": [
        "# Your code/ answer goes here."
      ]
    },
    {
      "cell_type": "markdown",
      "metadata": {
        "id": "2Pz9zg-69_wI"
      },
      "source": [
        "### Best First Move\n",
        "\n",
        "Use Oure Monte Carlo Search to determine what the best first move is? Describe under what assumptions this is the \"best\" first move.  "
      ]
    },
    {
      "cell_type": "code",
      "execution_count": null,
      "metadata": {
        "id": "fuwIJyfh9_wI"
      },
      "outputs": [],
      "source": [
        "# Your code/ answer goes here."
      ]
    }
  ],
  "metadata": {
    "colab": {
      "provenance": []
    },
    "kernelspec": {
      "display_name": "Python 3 (ipykernel)",
      "language": "python",
      "name": "python3"
    },
    "language_info": {
      "codemirror_mode": {
        "name": "ipython",
        "version": 3
      },
      "file_extension": ".py",
      "mimetype": "text/x-python",
      "name": "python",
      "nbconvert_exporter": "python",
      "pygments_lexer": "ipython3",
      "version": "3.11.5"
    }
  },
  "nbformat": 4,
  "nbformat_minor": 0
}
