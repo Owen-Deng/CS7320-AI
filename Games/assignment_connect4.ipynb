{
  "cells": [
    {
      "cell_type": "markdown",
      "metadata": {
        "id": "-LNvTk3C9_v-"
      },
      "source": [
        "# Adversarial Search: Playing Connect 4\n",
        "\n",
        "Student Name: Chuanqi Deng\n",
        "\n",
        "I have used the following AI tools: ChatGPT\n",
        "\n",
        "I understand that my submission needs to be my own work: CD\n",
        "\n",
        "## Instructions\n",
        "\n",
        "Total Points: Undegraduates 100, graduate students 110\n",
        "\n",
        "Complete this notebook and submit it. The notebook needs to be a complete project report with your implementation, documentation including a short discussion of how your implementation works and your design choices, and experimental results (e.g., tables and charts with simulation results) with a short discussion of what they mean. Use the provided notebook cells and insert additional code and markdown cells as needed.\n",
        "\n",
        "## Introduction\n",
        "\n",
        "You will implement different versions of agents that play Connect 4:\n",
        "\n",
        "> \"Connect 4 is a two-player connection board game, in which the players choose a color and then take turns dropping colored discs into a seven-column, six-row vertically suspended grid. The pieces fall straight down, occupying the lowest available space within the column. The objective of the game is to be the first to form a horizontal, vertical, or diagonal line of four of one's own discs.\" (see [Connect Four on Wikipedia](https://en.wikipedia.org/wiki/Connect_Four))\n",
        "\n",
        "Note that [Connect-4 has been solved](https://en.wikipedia.org/wiki/Connect_Four#Mathematical_solution)\n",
        "in 1988. A connect-4 solver with a discussion of how to solve different parts of the problem can be found here: https://connect4.gamesolver.org/en/"
      ]
    },
    {
      "cell_type": "markdown",
      "metadata": {
        "id": "ZqiaBVq79_wA"
      },
      "source": [
        "## Task 1: Defining the Search Problem [10 point]\n",
        "\n",
        "Define the components of the search problem:\n",
        "\n",
        "* Initial state\n",
        "* Actions\n",
        "* Transition model (result function)\n",
        "* Goal state (terminal state and utility)"
      ]
    },
    {
      "cell_type": "markdown",
      "metadata": {},
      "source": [
        "* Initial state:  Empty 6*7 board\n",
        "* Actions: Drop a disc into a column which is not full.\n",
        "* Transition model (result function):  s' = result(a, s). When a player drops a disc into a column, it falls to the lowest available position in that column. If the column is full, the player cannot drop a disc into it, and they must choose a different column.\n",
        "* Goal state (terminal state and utility): A player's 4 discs formed a horizontal, vertical, or diagonal line. A win has a utility of 1, a loss has a utility of -1, and a draw has a utility of 0."
      ]
    },
    {
      "cell_type": "markdown",
      "metadata": {
        "id": "iVEQicQq9_wB"
      },
      "source": [
        "How big is the state space? Give an estimate and explain it."
      ]
    },
    {
      "cell_type": "markdown",
      "metadata": {},
      "source": [
        "For each cell on the game board, there are 3 possibilities: empty, filled with a disc from Player 1, or filled with a disc from Player 2.\\\n",
        "So, for each column, there are 3^6 possible combinations (including the possibility of all cells being empty).\\\n",
        "Since there are 7 columns, we multiply 3^6 by itself 7 times to get the total number of possible game states.\\\n",
        "Therefore, the state space is 3^(6*7) = 3^42."
      ]
    },
    {
      "cell_type": "markdown",
      "metadata": {
        "id": "E0oOJCl_9_wB"
      },
      "source": [
        "How big is the game tree that minimax search will go through? Give an estimate and explain it."
      ]
    },
    {
      "cell_type": "markdown",
      "metadata": {},
      "source": [
        "At the first level of the tree (initial state), there are 7 possible moves.\\\n",
        "At the second level, assuming all columns are available, there are 6 possible moves for the opponent (one less because the column chosen by the first player is now unavailable).\\\n",
        "At the third level, there are again 7 possible moves for the first player.\\\n",
        "This pattern continues, alternating between 7 and 6 possible moves at each level until the game ends or reaches a terminal state.\\\n",
        "The average branching factor can be estimated as the average of 7 and 6, which is approximately 6.5.\\\n",
        "\n",
        "The maximum number of moves until the game ends is 42 (6 rows x 7 columns).\n",
        "Using the average branching factor and the depth of 42 moves, we can estimate the size of the game tree as approximately 6.5^42.\n",
        "Minimax search traverses the complete game tree."
      ]
    },
    {
      "cell_type": "markdown",
      "metadata": {
        "id": "G21Ssm4Z9_wC"
      },
      "source": [
        "## Task 2: Game Environment and Random Agent [25 point]\n",
        "\n",
        "Use a numpy character array as the board."
      ]
    },
    {
      "cell_type": "code",
      "execution_count": 216,
      "metadata": {
        "id": "FUnq0R159_wC",
        "outputId": "d8a26c20-97cf-4a53-b8e7-87cc6db4f567"
      },
      "outputs": [
        {
          "name": "stdout",
          "output_type": "stream",
          "text": [
            "[[0 0 0 0 0 0 0]\n",
            " [0 0 0 0 0 0 0]\n",
            " [0 0 0 0 0 0 0]\n",
            " [0 0 0 0 0 0 0]\n",
            " [0 0 0 0 0 0 0]\n",
            " [0 0 0 0 0 0 0]]\n"
          ]
        }
      ],
      "source": [
        "import numpy as np\n",
        "\n",
        "def empty_board(shape=(6, 7)):\n",
        "    return np.full(shape=shape, fill_value=0, dtype=np.int8)\n",
        "\n",
        "print(empty_board())"
      ]
    },
    {
      "cell_type": "markdown",
      "metadata": {
        "id": "X3RC3Omw9_wD"
      },
      "source": [
        "The standard board is $6 \\times 7$ but you can use smaller boards to test your code. Instead of colors (red and yellow), I use 1 and -1 to represent the players. Make sure that your agent functions all have the from: `agent_type(board, player = 1)`, where board is the current board position (in the format above) and player is the player whose next move it is and who the agent should play (as 1 and -1)."
      ]
    },
    {
      "cell_type": "code",
      "execution_count": 217,
      "metadata": {
        "id": "uKpohDus9_wD",
        "outputId": "012e56ca-ac25-4e87-93fc-c9f8c5782984",
        "tags": []
      },
      "outputs": [
        {
          "data": {
            "image/png": "[encoded data removed]",
            "text/plain": [
              "<Figure size 640x480 with 1 Axes>"
            ]
          },
          "metadata": {},
          "output_type": "display_data"
        }
      ],
      "source": [
        "# Visualization code by Randolph Rankin\n",
        "\n",
        "import matplotlib.pyplot as plt\n",
        "\n",
        "def visualize(board):\n",
        "    plt.axes()\n",
        "    rectangle=plt.Rectangle((-0.5,len(board)*-1+0.5),len(board[0]),len(board),fc='blue')\n",
        "    circles=[]\n",
        "    for i,row in enumerate(board):\n",
        "        for j,val in enumerate(row):\n",
        "            color='white' if val==0 else 'red' if val==1 else 'yellow'\n",
        "            circles.append(plt.Circle((j,i*-1),0.4,fc=color))\n",
        "\n",
        "    plt.gca().add_patch(rectangle)\n",
        "    for circle in circles:\n",
        "        plt.gca().add_patch(circle)\n",
        "\n",
        "    plt.axis('scaled')\n",
        "    plt.show()\n",
        "\n",
        "board = [[0, 0, 0, 0, 0, 0, 0],\n",
        "         [0, 0, 0, 0, 0, 0, 0],\n",
        "         [0, 0, 0, 0, 0, 0, 0],\n",
        "         [0, 1, -1, 1, 0, 0, 0],\n",
        "         [0, 1, 1, -1, 0, 0, 0],\n",
        "         [0, 1,-1, 1, -1, 0, 0]]\n",
        "visualize(board)"
      ]
    },
    {
      "cell_type": "markdown",
      "metadata": {
        "id": "OSof4v5L9_wD",
        "tags": []
      },
      "source": [
        "Implement helper functions for:\n",
        "\n",
        "* A check for available actions in each state `actions(s)`.\n",
        "* The transition model `result(s, a)`.\n",
        "* Check for terminal states `terminal(s)`.\n",
        "* The utility function `utility(s)`.\n",
        "\n",
        "Make sure that all these functions work with boards of different sizes (number of columns and rows)."
      ]
    },
    {
      "cell_type": "code",
      "execution_count": 218,
      "metadata": {
        "id": "Q110Di8r9_wD"
      },
      "outputs": [],
      "source": [
        "# Your code/ answer goes here.\n",
        "from copy import deepcopy\n",
        "def actions(s, player = 1):\n",
        "    \"\"\"return non-full column index \"\"\"\n",
        "    ROW, COL = len(s), len(s[0])\n",
        "    res = []\n",
        "    for col in range(COL):\n",
        "        for row in range(ROW):\n",
        "            if s[row][col] == 0:\n",
        "                res.append(col)\n",
        "                break\n",
        "    return res\n",
        "    \n",
        "    \n",
        "def result(s, player, a):\n",
        "    \"\"\"return state based on given action\"\"\"\n",
        "    s_cpy = deepcopy(s)\n",
        "    NUM_ROW = len(s)\n",
        "    for row in range(NUM_ROW-1, -1, -1):\n",
        "        if s_cpy[row][a] == 0:\n",
        "            s_cpy[row][a] = player\n",
        "            break\n",
        "            \n",
        "    return s_cpy\n",
        "\n",
        "def check_win(board):\n",
        "    \"\"\"check the board and return one of 1, -1, d (draw), or n (for next move)\"\"\"\n",
        "    \n",
        "    ROW, COL = len(board), len(board[0])\n",
        "    \n",
        "    # columns \n",
        "    for col in range(COL):\n",
        "        cnt = 1\n",
        "        for row in range(ROW-2, -1, -1):\n",
        "            if board[row][col] == 0: break\n",
        "            if board[row][col] == board[row+1][col]:\n",
        "                cnt += 1\n",
        "            else:\n",
        "                cnt = 1\n",
        "            if cnt == 4:\n",
        "                return board[row][col]\n",
        "    \n",
        "    # rows\n",
        "    for row in range(ROW):\n",
        "        cnt = 1\n",
        "        for col in range(COL-1):\n",
        "            if board[row][col] == board[row][col+1]:\n",
        "                cnt += 1\n",
        "            else:\n",
        "                cnt = 1\n",
        "            if board[row][col] != 0 and cnt == 4:\n",
        "                return board[row][col]\n",
        "    \n",
        "    # diagonals\n",
        "    for start_col in range(3, COL):\n",
        "        if start_col != COL - 1:\n",
        "            start_rows = (ROW - 1,)\n",
        "        else:\n",
        "            start_rows = range(ROW-1, 2, -1)\n",
        "            \n",
        "        for start_row in start_rows:\n",
        "            row, col = start_row - 1, start_col-1\n",
        "            cnt = 1\n",
        "            while row >= 0 and col >= 0:\n",
        "                if board[row][col] == board[row+1][col+1]:\n",
        "                    cnt += 1\n",
        "                else:\n",
        "                    cnt = 1\n",
        "                if board[row][col] != 0 and cnt == 4:\n",
        "                    return board[row][col]\n",
        "                row -= 1\n",
        "                col -= 1\n",
        "                \n",
        "    # diagonals in another direction\n",
        "    for start_col in range(0, COL-4+1):\n",
        "        if start_col != 0:\n",
        "            start_rows = (ROW - 1,)\n",
        "        else:\n",
        "            start_rows = range(ROW-1, 2, -1)\n",
        "            \n",
        "        for start_row in start_rows:\n",
        "            row, col = start_row - 1, start_col + 1\n",
        "            cnt = 1\n",
        "            while row >= 0 and col < COL:\n",
        "                if board[row][col] == board[row+1][col-1]:\n",
        "                    cnt += 1\n",
        "                else:\n",
        "                    cnt = 1\n",
        "                if board[row][col] != 0 and cnt == 4:\n",
        "                    return board[row][col]\n",
        "                row -= 1\n",
        "                col += 1\n",
        "\n",
        "    # check if not in terminal state\n",
        "    for row in range(ROW):\n",
        "        for col in range(COL):\n",
        "            if board[row][col] == 0:\n",
        "                return 'n'\n",
        "            \n",
        "    return 'd'\n",
        "    \n",
        "def terminal(s):\n",
        "    \"\"\"check if s is terminal state\"\"\"\n",
        "    return check_win(s) != 'n'\n",
        "\n",
        "def utility(s, player=1):\n",
        "   \"\"\"check is a state is terminal and return the utility if it is. None means not a terminal mode.\"\"\"\n",
        "   goal = check_win(s)        \n",
        "   if goal == player: return 1\n",
        "   if goal == 'd': return 0  \n",
        "   if goal == -1 * player: return -1  # loss is failure\n",
        "   return None # continue"
      ]
    },
    {
      "cell_type": "markdown",
      "metadata": {
        "id": "UNf_76NU9_wD"
      },
      "source": [
        "Implement an agent that plays randomly. Make sure the agent function receives as the percept the board and returns a valid action. Use an agent function definition with the following signature (arguments):\n",
        "\n",
        "`def random_player(board, player = 1): ...`\n",
        "\n",
        "The argument `player` is used for agents that do not store what color they are playing. The value passed on by the environment should be 1 ot -1 for player red and yellow, respectively.  See [Experiments section for tic-tac-toe](https://nbviewer.org/github/mhahsler/CS7320-AI/blob/master/Games/tictactoe_and_or_tree_search.ipynb#Experiments) for an example."
      ]
    },
    {
      "cell_type": "code",
      "execution_count": 219,
      "metadata": {
        "id": "yC84sry79_wD"
      },
      "outputs": [],
      "source": [
        "# Your code/ answer goes here.\n",
        "def random_player(board, player = 1):\n",
        "    return np.random.choice(actions(board))"
      ]
    },
    {
      "cell_type": "markdown",
      "metadata": {
        "id": "BMygwnky9_wD"
      },
      "source": [
        "Let two random agents play against each other 1000 times. Look at the [Experiments section for tic-tac-toe](https://nbviewer.org/github/mhahsler/CS7320-AI/blob/master/Games/tictactoe_and_or_tree_search.ipynb#Experiments) to see how the environment uses the agent functions to play against each other.\n",
        "\n",
        "How often does each player win? Is the result expected?"
      ]
    },
    {
      "cell_type": "code",
      "execution_count": 239,
      "metadata": {
        "id": "NioCNEXZ9_wD",
        "tags": []
      },
      "outputs": [
        {
          "data": {
            "text/plain": [
              "{1: 541, -1: 456, 0: 3}"
            ]
          },
          "execution_count": 239,
          "metadata": {},
          "output_type": "execute_result"
        }
      ],
      "source": [
        "# Your code/ answer goes here.\n",
        "def switch_player(player, player1, palyer2):\n",
        "    if player == 1:\n",
        "        return -1, palyer2\n",
        "    else:\n",
        "        return 1, player1\n",
        "\n",
        "def play(player1, palyer2, N = 1000, bord_size = (6, 7)):\n",
        "    \"\"\"Let two agents play each other N times. 1 starts. player1 and palyer2 are agent functions that \n",
        "    get the board as the percept and return their next action.\"\"\"\n",
        "    results = {1: 0, -1: 0, 0: 0}\n",
        "    \n",
        "    for _ in range(N):\n",
        "        board = empty_board(bord_size)\n",
        "        player, fun = 1, player1\n",
        "        \n",
        "        while not terminal(board):\n",
        "            a = fun(board, player)\n",
        "            board = result(board, player, a)\n",
        "            player, fun = switch_player(player, player1, palyer2)   \n",
        "            \n",
        "        win = utility(board)   # returns the 'n' if the game is not done.\n",
        "        results[win] += 1\n",
        "\n",
        "    return results\n",
        "\n",
        "play(random_player, random_player)"
      ]
    },
    {
      "cell_type": "markdown",
      "metadata": {
        "id": "4AMhgWGA9_wD"
      },
      "source": [
        "## Task 3: Minimax Search with Alpha-Beta Pruning\n",
        "\n",
        "### Implement the Search [20 points]\n",
        "\n",
        "Implement minimax search starting from a given board for specifying the player.\n",
        "You can use code from the [tic-tac-toe example](https://nbviewer.org/github/mhahsler/CS7320-AI/blob/master/Games/tictactoe_alpha_beta_tree_search.ipynb).\n",
        "\n",
        "__Important Notes:__\n",
        "* Make sure that all your agent functions have a signature consistent with the random agent above and that it [uses a class to store state information.](https://nbviewer.org/github/mhahsler/CS7320-AI/blob/master/HOWTOs/store_agent_state_information.ipynb)\n",
        "This is essential to be able play against agents from other students later.\n",
        "* The search space for a $6 \\times 7$ board is large. You can experiment with smaller boards (the smallest is $4 \\times 4$) and/or changing the winning rule to connect 3 instead of 4."
      ]
    },
    {
      "cell_type": "code",
      "execution_count": 231,
      "metadata": {
        "id": "ccnCCWOI9_wD"
      },
      "outputs": [],
      "source": [
        "import math\n",
        "# Your code/ answer goes here.\n",
        "DEBUG = 1 # 1 ... count nodes, 2 ... debug each node\n",
        "COUNT = 0\n",
        "\n",
        "def alpha_beta_search(board, player = 1):\n",
        "    \"\"\"start the search.\"\"\"\n",
        "    global DEBUG, COUNT\n",
        "    COUNT = 0\n",
        "    \n",
        "    value, move = max_value_ab(board, player, -math.inf, +math.inf)\n",
        "    \n",
        "    if DEBUG >= 1: print(f\"Number of nodes searched: {COUNT}\") \n",
        "    \n",
        "    return { \"move\": move, \"value\": value }\n",
        "\n",
        "def max_value_ab(state, player, alpha, beta):\n",
        "    \"\"\"player's best move.\"\"\"\n",
        "    global DEBUG, COUNT\n",
        "    COUNT += 1\n",
        "       \n",
        "    # return utility of state is a terminal state\n",
        "    v = utility(state, player)\n",
        "    if DEBUG >= 2: print(f\"max: {state} [alpha,beta]=[{alpha},{beta}] v={v}\")\n",
        "    if v is not None: \n",
        "        if DEBUG >= 2: print(f\"     found terminal state. backtracking.\")\n",
        "        return v, None\n",
        "        \n",
        "    v, move = -math.inf, None\n",
        "\n",
        "    # check all possible actions in the state, update alpha and return move with the largest value\n",
        "    for a in actions(state):\n",
        "        v2, a2 = min_value_ab(result(state, player, a), player, alpha, beta)\n",
        "        if DEBUG >= 2: print(f\"max: {state} (backtracked) [alpha,beta]=[{alpha},{beta}] v={v2}\")\n",
        "        \n",
        "        if v2 > v:\n",
        "            v, move = v2, a\n",
        "            alpha = max(alpha, v)\n",
        "        if v >= beta:\n",
        "            if DEBUG >= 2: print(f\"     v>=beta ({v}>={beta}): pruning remaining subtree (actions). backtracking.\")\n",
        "            return v, move\n",
        "    \n",
        "    return v, move\n",
        "\n",
        "def min_value_ab(state, player, alpha, beta):\n",
        "    \"\"\"opponent's best response.\"\"\"\n",
        "    global DEBUG, COUNT\n",
        "    COUNT += 1\n",
        "    \n",
        "    # return utility of state is a terminal state\n",
        "    v = utility(state, player)\n",
        "    if DEBUG >= 2: print(f\"min: {state} [alpha,beta]=[{alpha},{beta}] v={v}\")\n",
        "    if v is not None: \n",
        "        if DEBUG >= 2: print(f\"     found terminal state. backtacking.\")\n",
        "        return v, None\n",
        "    \n",
        "    v, move = +math.inf, None\n",
        "\n",
        "    # check all possible actions in the state, update beta and return move with the smallest value\n",
        "    for a in actions(state):\n",
        "        v2, a2 = max_value_ab(result(state, -1 * player, a), player, alpha, beta)\n",
        "        if DEBUG >= 2: print(f\"min: {state} (backtracked) [alpha,beta]=[{alpha},{beta}] v={v2}\")\n",
        "        \n",
        "        if v2 < v:\n",
        "            v, move = v2, a\n",
        "            beta = min(beta, v)\n",
        "        if v <= alpha: \n",
        "            if DEBUG >= 2: print(f\"     v<=alpha ({v}<={alpha}): pruning remaining subtree (actions). backtracking.\")\n",
        "            return v, move\n",
        "    \n",
        "    return v, move\n",
        "\n",
        "\n",
        "class AlphaBetaAgent:\n",
        "    def __init__(self, name = \"AlphaBetaAgent\"):\n",
        "        self.name = name\n",
        "        self.state = None\n",
        "    \n",
        "    def act(self, board, player):\n",
        "        move = alpha_beta_search(board, player)['move']\n",
        "        self.state = result(board, player, move)\n",
        "        return move\n",
        "    \n"
      ]
    },
    {
      "cell_type": "markdown",
      "metadata": {
        "id": "PKFr-sdd9_wE"
      },
      "source": [
        "Experiment with some manually created boards (at least 5) to check if the agent spots winning opportunities."
      ]
    },
    {
      "cell_type": "code",
      "execution_count": 222,
      "metadata": {
        "id": "vo-10JDU9_wE"
      },
      "outputs": [
        {
          "name": "stdout",
          "output_type": "stream",
          "text": [
            "Number of nodes searched: 8\n"
          ]
        },
        {
          "data": {
            "text/plain": [
              "{'move': 0, 'value': 1}"
            ]
          },
          "metadata": {},
          "output_type": "display_data"
        },
        {
          "name": "stdout",
          "output_type": "stream",
          "text": [
            "CPU times: total: 0 ns\n",
            "Wall time: 1.51 ms\n",
            "---------------------------------------\n",
            "Number of nodes searched: 27\n"
          ]
        },
        {
          "data": {
            "text/plain": [
              "{'move': 0, 'value': 1}"
            ]
          },
          "metadata": {},
          "output_type": "display_data"
        },
        {
          "name": "stdout",
          "output_type": "stream",
          "text": [
            "CPU times: total: 0 ns\n",
            "Wall time: 1.01 ms\n",
            "---------------------------------------\n",
            "Number of nodes searched: 13\n"
          ]
        },
        {
          "data": {
            "text/plain": [
              "{'move': 2, 'value': 0}"
            ]
          },
          "metadata": {},
          "output_type": "display_data"
        },
        {
          "name": "stdout",
          "output_type": "stream",
          "text": [
            "CPU times: total: 0 ns\n",
            "Wall time: 1 ms\n",
            "---------------------------------------\n",
            "Number of nodes searched: 2\n"
          ]
        },
        {
          "data": {
            "text/plain": [
              "{'move': 3, 'value': 0}"
            ]
          },
          "metadata": {},
          "output_type": "display_data"
        },
        {
          "name": "stdout",
          "output_type": "stream",
          "text": [
            "CPU times: total: 0 ns\n",
            "Wall time: 1 ms\n",
            "---------------------------------------\n",
            "Number of nodes searched: 5\n"
          ]
        },
        {
          "data": {
            "text/plain": [
              "{'move': 0, 'value': -1}"
            ]
          },
          "metadata": {},
          "output_type": "display_data"
        },
        {
          "name": "stdout",
          "output_type": "stream",
          "text": [
            "CPU times: total: 0 ns\n",
            "Wall time: 1e+03 µs\n"
          ]
        }
      ],
      "source": [
        "board = [[0, 0, 0,-1],\n",
        "         [1,-1,-1, 1],\n",
        "         [1,-1,-1,-1],\n",
        "         [1, 1,-1, 1]]\n",
        "%time display(alpha_beta_search(board, 1))\n",
        "print('---------------------------------------')\n",
        "\n",
        "board = [[0, 0, 0, 0],\n",
        "         [1,-1,-1, 0],\n",
        "         [1,-1,-1,-1],\n",
        "         [1, 1,-1, 1]]\n",
        "%time display(alpha_beta_search(board, 1))\n",
        "print('---------------------------------------')\n",
        "\n",
        "board = [[-1, 0, 0, 0],\n",
        "         [ 1,-1,-1, 1],\n",
        "         [ 1,-1,-1,-1],\n",
        "         [ 1, 1,-1, 1]]\n",
        "%time display(alpha_beta_search(board, 1))\n",
        "print('---------------------------------------')\n",
        "\n",
        "board = [[-1, 1, 1, 0],\n",
        "         [ 1,-1,-1, 1],\n",
        "         [ 1,-1,-1,-1],\n",
        "         [ 1,-1,-1, 1]]\n",
        "%time display(alpha_beta_search(board, 1))\n",
        "print('---------------------------------------')\n",
        "\n",
        "board = [[ 0, 1, 0, 1],\n",
        "         [ 1,-1,-1, 1],\n",
        "         [ 1,-1,-1, 1],\n",
        "         [-1, 1,-1,-1]]\n",
        "%time display(alpha_beta_search(board, 1))"
      ]
    },
    {
      "cell_type": "markdown",
      "metadata": {
        "id": "CmuLQBkl9_wE"
      },
      "source": [
        "How long does it take to make a move? Start with a smaller board with 4 columns and make the board larger by adding columns."
      ]
    },
    {
      "cell_type": "code",
      "execution_count": 223,
      "metadata": {
        "id": "Z_w0mmdr9_wE"
      },
      "outputs": [
        {
          "name": "stdout",
          "output_type": "stream",
          "text": [
            "Number of nodes searched: 3697\n",
            "board 3x4: 0.15 seconds.\n",
            "Number of nodes searched: 62889\n",
            "board 4x4: 3.54 seconds.\n"
          ]
        }
      ],
      "source": [
        "import time\n",
        "\n",
        "for size in [(3, 4), (4,4)]:\n",
        "    board = empty_board(size)\n",
        "    start_time = time.time()\n",
        "    alpha_beta_search(board, 1)\n",
        "    used_time = time.time() - start_time\n",
        "    print(f\"board {size[0]}x{size[1]}: {used_time:.2f} seconds.\")"
      ]
    },
    {
      "cell_type": "markdown",
      "metadata": {
        "id": "q8LtIBE89_wE"
      },
      "source": [
        "### Move ordering [5 points]\n",
        "\n",
        "Starting the search with better moves will increase the efficiency of alpha-beta pruning. Describe and implement a simple move ordering strategy. Make a table that shows how the ordering strategies influence the time it takes to make a move?"
      ]
    },
    {
      "cell_type": "markdown",
      "metadata": {},
      "source": [
        "Here I assign each column a priority. The actions will be sorted based on cooresponding priorities. So, the alpha_beta_search will go to columns with higher priority."
      ]
    },
    {
      "cell_type": "code",
      "execution_count": 229,
      "metadata": {
        "id": "AeKcs_lR9_wE"
      },
      "outputs": [
        {
          "name": "stdout",
          "output_type": "stream",
          "text": [
            "Number of nodes searched: 62889\n",
            "Number of nodes searched: 62030\n",
            "Number of nodes searched: 59265\n",
            "Number of nodes searched: 58290\n"
          ]
        },
        {
          "data": {
            "text/html": [
              "<div>\n",
              "<style scoped>\n",
              "    .dataframe tbody tr th:only-of-type {\n",
              "        vertical-align: middle;\n",
              "    }\n",
              "\n",
              "    .dataframe tbody tr th {\n",
              "        vertical-align: top;\n",
              "    }\n",
              "\n",
              "    .dataframe thead th {\n",
              "        text-align: right;\n",
              "    }\n",
              "</style>\n",
              "<table border=\"1\" class=\"dataframe\">\n",
              "  <thead>\n",
              "    <tr style=\"text-align: right;\">\n",
              "      <th></th>\n",
              "      <th>Stategy</th>\n",
              "      <th>Time Used(s)</th>\n",
              "      <th>Node Searched</th>\n",
              "    </tr>\n",
              "  </thead>\n",
              "  <tbody>\n",
              "    <tr>\n",
              "      <th>0</th>\n",
              "      <td>[0, 0, 0, 0]</td>\n",
              "      <td>3.331542</td>\n",
              "      <td>62889</td>\n",
              "    </tr>\n",
              "    <tr>\n",
              "      <th>1</th>\n",
              "      <td>[1, 0, 1, 1]</td>\n",
              "      <td>3.438386</td>\n",
              "      <td>62030</td>\n",
              "    </tr>\n",
              "    <tr>\n",
              "      <th>2</th>\n",
              "      <td>[1, 1, 0, 1]</td>\n",
              "      <td>3.322894</td>\n",
              "      <td>59265</td>\n",
              "    </tr>\n",
              "    <tr>\n",
              "      <th>3</th>\n",
              "      <td>[0, 1, 0, 1]</td>\n",
              "      <td>3.306622</td>\n",
              "      <td>58290</td>\n",
              "    </tr>\n",
              "  </tbody>\n",
              "</table>\n",
              "</div>"
            ],
            "text/plain": [
              "        Stategy  Time Used(s)  Node Searched\n",
              "0  [0, 0, 0, 0]      3.331542          62889\n",
              "1  [1, 0, 1, 1]      3.438386          62030\n",
              "2  [1, 1, 0, 1]      3.322894          59265\n",
              "3  [0, 1, 0, 1]      3.306622          58290"
            ]
          },
          "execution_count": 229,
          "metadata": {},
          "output_type": "execute_result"
        }
      ],
      "source": [
        "import pandas as pd\n",
        "priorities = [[0,0,0,0], [1, 0, 1, 1], [1, 1, 0, 1], [0, 1, 0, 1]]\n",
        "table_data = []\n",
        "for priority in priorities:\n",
        "    def actions(s, player = 1):\n",
        "        \"\"\"return non-full column index with ordering \"\"\"\n",
        "        ROW, COL = len(s), len(s[0])\n",
        "        res = []\n",
        "        \n",
        "        for col in range(COL):\n",
        "            for row in range(ROW):\n",
        "                if s[row][col] == 0:\n",
        "                    res.append((priority[col],col))\n",
        "                    break\n",
        "                \n",
        "        actions = [a for _, a in sorted(res, reverse=True)]\n",
        "        \n",
        "        return actions\n",
        "    start_time = time.time()\n",
        "    alpha_beta_search(board, 1)\n",
        "    used_time = time.time() - start_time\n",
        "    table_data.append([priority, used_time, COUNT])\n",
        "\n",
        "pd.DataFrame(table_data, columns= [\"Stategy\", \"Time Used(s)\", \"Node Searched\"])"
      ]
    },
    {
      "cell_type": "markdown",
      "metadata": {
        "id": "Vt2N8X-39_wE"
      },
      "source": [
        "### The first few moves [5 points]\n",
        "\n",
        "Start with an empty board. This is the worst case scenario for minimax search since it needs solve all possible games that can be played (minus some pruning) before making the decision. What can you do?"
      ]
    },
    {
      "cell_type": "markdown",
      "metadata": {},
      "source": [
        "For the first few moves, the agent can only explore those actions with higher priority.\n",
        "Or, use a fixed pattern that have higher chance to win the game to place the discs."
      ]
    },
    {
      "cell_type": "markdown",
      "metadata": {
        "id": "fgf6RC9Z9_wE"
      },
      "source": [
        "### Playtime [5 points]\n",
        "\n",
        "Let the Minimax Search agent play a random agent on a small board. Analyze wins, losses and draws."
      ]
    },
    {
      "cell_type": "code",
      "execution_count": 244,
      "metadata": {
        "id": "_FEa4V589_wE"
      },
      "outputs": [
        {
          "data": {
            "text/plain": [
              "{1: 0, -1: 14, 0: 6}"
            ]
          },
          "execution_count": 244,
          "metadata": {},
          "output_type": "execute_result"
        }
      ],
      "source": [
        "def actions(s, player = 1):\n",
        "        \"\"\"return non-full column index with ordering \"\"\"\n",
        "        ROW, COL = len(s), len(s[0])\n",
        "        res = []\n",
        "        priority = [0 if i % 2 == 0 else 1  for i in range(COL)]\n",
        "        for col in range(COL):\n",
        "            for row in range(ROW):\n",
        "                if s[row][col] == 0:\n",
        "                    res.append((priority[col],col))\n",
        "                    break\n",
        "                \n",
        "        actions = [a for _, a in sorted(res, reverse=True)]\n",
        "        \n",
        "        return actions\n",
        "    \n",
        "ab_agent = AlphaBetaAgent()\n",
        "DEBUG = 0\n",
        "play(random_player, ab_agent.act, 20, (4, 4))"
      ]
    },
    {
      "cell_type": "markdown",
      "metadata": {},
      "source": [
        "According to the result, Alpha-Beta Agent wins most of the time and the random agent never wins."
      ]
    },
    {
      "cell_type": "markdown",
      "metadata": {
        "id": "mg2nPMfE9_wE"
      },
      "source": [
        "## Task 4: Heuristic Alpha-Beta Tree Search\n",
        "\n",
        "### Heuristic evaluation function [15 points]\n",
        "\n",
        "Define and implement a heuristic evaluation function."
      ]
    },
    {
      "cell_type": "code",
      "execution_count": 336,
      "metadata": {
        "id": "ED6YeQwh9_wE"
      },
      "outputs": [],
      "source": [
        "def is_valid(board, row, col, ROW, COL, check_below_4th):\n",
        "    if row < 0 or row >= ROW or col < 0 or col >= COL\\\n",
        "        or board[row][col] != 0:\n",
        "        return False\n",
        "    if not check_below_4th:\n",
        "        return True\n",
        "    if row == ROW - 1:\n",
        "        return True\n",
        "    if board[row+1][col] == 0:\n",
        "        return False\n",
        "    return True\n",
        "    \n",
        "    \n",
        "def eval_fun(board, player = 1, check_below_4th = True):\n",
        "    \"\"\"heuristic for utility of state. Returns score for a node:\n",
        "    1. For terminal states it returns the utility. \n",
        "    2. For non-terminal states, it calculates a weighted linear function using features of the state. \n",
        "    The features we look at are 3 in a row/col/diagonal where the 4th square is empty. We assume that\n",
        "    the more of these positions we have, the higher the chance of winning.\n",
        "    We need to be careful that the utility of the heuristic stays between [-1,1]. \n",
        "    Note that the largest possible number of these positions is smaller than ROW*COL. I weigh the count by 1/(ROW*COL), \n",
        "    guaranteeing that is in the needed range.\n",
        "    \n",
        "    Function Returns: heuistic value, terminal?\"\"\"\n",
        "    \n",
        "    # terminal state?\n",
        "    u = utility(board, player)\n",
        "    if u is not None: return u, True\n",
        "      \n",
        "    score = 0\n",
        "    ROW, COL = len(board), len(board[0])\n",
        "    score_one = 1/(ROW*COL)\n",
        "    \n",
        "    # columns \n",
        "    for col in range(COL):\n",
        "        cnt = 1\n",
        "        for row in range(ROW-2, -1, -1):\n",
        "            if board[row][col] == 0: break\n",
        "            if board[row][col] == board[row+1][col]:\n",
        "                cnt += 1\n",
        "            else:\n",
        "                cnt = 1\n",
        "            if cnt == 3 and row-1>=0 and board[row-1][col] == 0:\n",
        "                score += board[row][col] * score_one \n",
        "    \n",
        "    # rows\n",
        "    for row in range(ROW):\n",
        "        cnt = 1\n",
        "        for col in range(COL-1):\n",
        "            if board[row][col] == board[row][col+1]:\n",
        "                cnt += 1\n",
        "            else:\n",
        "                cnt = 1\n",
        "            if board[row][col] != 0 and cnt == 3 and \\\n",
        "                (is_valid(board, row, col-2, ROW, COL, check_below_4th) or is_valid(board, row, col+2, ROW, COL, check_below_4th)):\n",
        "                score += board[row][col] * score_one \n",
        "    \n",
        "    # diagonals \\ \n",
        "    for start_col in range(3, COL):\n",
        "        if start_col != COL - 1:\n",
        "            start_rows = (ROW - 1,)\n",
        "        else:\n",
        "            start_rows = range(ROW-1, 2, -1)\n",
        "            \n",
        "        for start_row in start_rows:\n",
        "            row, col = start_row - 1, start_col-1\n",
        "            cnt = 1\n",
        "            while row >= 0 and col >= 0:\n",
        "                if board[row][col] == board[row+1][col+1]:\n",
        "                    cnt += 1\n",
        "                else:\n",
        "                    cnt = 1\n",
        "                if board[row][col] != 0 and cnt == 3 and \\\n",
        "                    (is_valid(board, row+3, col+3, ROW, COL, check_below_4th) or is_valid(board, row-1, col-1, ROW, COL, check_below_4th)):\n",
        "                    score += board[row][col] * score_one \n",
        "                row -= 1\n",
        "                col -= 1\n",
        "                \n",
        "    # diagonals in another direction /\n",
        "    for start_col in range(0, COL-4+1):\n",
        "        if start_col != 0:\n",
        "            start_rows = (ROW - 1,)\n",
        "        else:\n",
        "            start_rows = range(ROW-1, 2, -1)\n",
        "            \n",
        "        for start_row in start_rows:\n",
        "            row, col = start_row - 1, start_col + 1\n",
        "            cnt = 1\n",
        "            while row >= 0 and col < COL:\n",
        "                if board[row][col] == board[row+1][col-1]:\n",
        "                    cnt += 1\n",
        "                else:\n",
        "                    cnt = 1\n",
        "                if board[row][col] != 0 and cnt == 3 and \\\n",
        "                    (is_valid(board, row+3, col-3, ROW, COL, check_below_4th) or is_valid(board, row-1, col+1, ROW, COL, check_below_4th)):\n",
        "                    score += board[row][col] * score_one \n",
        "                row -= 1\n",
        "                col += 1\n",
        "    \n",
        "    return score, False"
      ]
    },
    {
      "cell_type": "markdown",
      "metadata": {
        "id": "Fk0Li5029_wE"
      },
      "source": [
        "### Cutting Off Search [10 points]\n",
        "\n",
        "Modify your minimax search with alpha-beta pruning to cut off search at a specified depth and use the heuristic evaluation function. Experiment with different cutoff values."
      ]
    },
    {
      "cell_type": "code",
      "execution_count": 335,
      "metadata": {
        "id": "OFxoIqni9_wE"
      },
      "outputs": [],
      "source": [
        "# global variables\n",
        "DEBUG = 1 # 1 ... count nodes, 2 ... debug each node\n",
        "COUNT = 0\n",
        "\n",
        "def alpha_beta_search(board, cutoff = None, check_below_4th = True, player = 1):\n",
        "    \"\"\"start the search. cutoff = None is minimax search with alpha-beta pruning.\"\"\"\n",
        "    global DEBUG, COUNT\n",
        "    COUNT = 0\n",
        "\n",
        "    value, move = max_value_ab(board, player, -math.inf, +math.inf, 0, cutoff, check_below_4th)\n",
        "    \n",
        "    if DEBUG >= 1: print(f\"Number of nodes searched (cutoff = {cutoff}): {COUNT}\") \n",
        "    \n",
        "    return {\"move\": move, \"value\": value}\n",
        "\n",
        "def max_value_ab(state, player, alpha, beta, depth, cutoff, check_below_4th = True):\n",
        "    \"\"\"player's best move.\"\"\"\n",
        "    global DEBUG, COUNT\n",
        "    COUNT += 1\n",
        "    \n",
        "    # cut off and terminal test\n",
        "    v, terminal = eval_fun(state, player, check_below_4th)\n",
        "    if((cutoff is not None and depth >= cutoff) or terminal): \n",
        "        if(terminal): \n",
        "            alpha, beta = v, v\n",
        "        if DEBUG >= 2: print(f\"stopped at {depth}: {state} term: {terminal} eval: {v} [{alpha}, {beta}]\" ) \n",
        "        return v, None\n",
        "    \n",
        "    v, move = -math.inf, None\n",
        "\n",
        "    # check all possible actions in the state, update alpha and return move with the largest value\n",
        "    for a in actions(state):\n",
        "        v2, a2 = min_value_ab(result(state, player, a), player, alpha, beta, depth + 1, cutoff, check_below_4th)\n",
        "        if v2 > v:\n",
        "            v, move = v2, a\n",
        "            alpha = max(alpha, v)\n",
        "        if v >= beta: return v, move\n",
        "    \n",
        "    return v, move\n",
        "\n",
        "def min_value_ab(state, player, alpha, beta, depth, cutoff, check_below_4th = True):\n",
        "    \"\"\"opponent's best response.\"\"\"\n",
        "    global DEBUG, COUNT\n",
        "    COUNT += 1\n",
        "    \n",
        "    # cut off and terminal test\n",
        "    v, terminal = eval_fun(state, player, check_below_4th)\n",
        "    if((cutoff is not None and depth >= cutoff) or terminal): \n",
        "        if(terminal): \n",
        "            alpha, beta = v, v\n",
        "        if DEBUG >= 2: print(f\"stopped at {depth}: {state} term: {terminal} eval: {v} [{alpha}, {beta}]\" ) \n",
        "        return v, None\n",
        "    \n",
        "    v, move = +math.inf, None\n",
        "\n",
        "    # check all possible actions in the state, update beta and return move with the smallest value\n",
        "    for a in actions(state):\n",
        "        v2, a2 = max_value_ab(result(state, -1 * player, a), player, alpha, beta, depth + 1, cutoff, check_below_4th)\n",
        "        if v2 < v:\n",
        "            v, move = v2, a\n",
        "            beta = min(beta, v)\n",
        "        if v <= alpha: return v, move\n",
        "    \n",
        "    return v, move\n",
        "\n",
        "class HeuristicAgent:\n",
        "    def __init__(self, cutoff = 8, check_below_4th = True, name = \"HeuristicAgent\"):\n",
        "        self.name = name\n",
        "        self.state = None\n",
        "        self.cutoff = cutoff\n",
        "        self.check_below_4th = check_below_4th\n",
        "    \n",
        "    def act(self, board, player):\n",
        "        move = alpha_beta_search(board, self.cutoff , player)['move']\n",
        "        self.state = result(board, player, move)\n",
        "        return move"
      ]
    },
    {
      "cell_type": "code",
      "execution_count": 303,
      "metadata": {},
      "outputs": [
        {
          "name": "stdout",
          "output_type": "stream",
          "text": [
            "Number of nodes searched (cutoff = 10): 8\n"
          ]
        },
        {
          "data": {
            "text/plain": [
              "{'move': 3, 'value': 1}"
            ]
          },
          "metadata": {},
          "output_type": "display_data"
        },
        {
          "name": "stdout",
          "output_type": "stream",
          "text": [
            "CPU times: total: 0 ns\n",
            "Wall time: 2 ms\n",
            "Number of nodes searched (cutoff = 5): 8\n"
          ]
        },
        {
          "data": {
            "text/plain": [
              "{'move': 3, 'value': 1}"
            ]
          },
          "metadata": {},
          "output_type": "display_data"
        },
        {
          "name": "stdout",
          "output_type": "stream",
          "text": [
            "CPU times: total: 0 ns\n",
            "Wall time: 2.01 ms\n"
          ]
        }
      ],
      "source": [
        "board = [[0, 0, 0, 0],\n",
        "         [0, 1, 1, 1],\n",
        "         [1, 1,-1,-1],\n",
        "         [1, 1,-1, 1]]\n",
        "%time display(alpha_beta_search(board, 10, 1))\n",
        "board = [[0, 0, 0, 0],\n",
        "         [0, 1, 1, 1],\n",
        "         [1, 1,-1,-1],\n",
        "         [1, 1,-1, 1]]\n",
        "%time display(alpha_beta_search(board, 5, 1))"
      ]
    },
    {
      "cell_type": "markdown",
      "metadata": {
        "id": "CPqW7Drp9_wE"
      },
      "source": [
        "Experiment with the same manually created boards as above to check if the agent spots wining opportunities."
      ]
    },
    {
      "cell_type": "code",
      "execution_count": 304,
      "metadata": {
        "id": "9sgpdC-L9_wE"
      },
      "outputs": [
        {
          "name": "stdout",
          "output_type": "stream",
          "text": [
            "Number of nodes searched (cutoff = 10): 11\n"
          ]
        },
        {
          "data": {
            "text/plain": [
              "{'move': 0, 'value': 1}"
            ]
          },
          "metadata": {},
          "output_type": "display_data"
        },
        {
          "name": "stdout",
          "output_type": "stream",
          "text": [
            "CPU times: total: 0 ns\n",
            "Wall time: 1.05 ms\n",
            "---------------------------------------\n",
            "Number of nodes searched (cutoff = 10): 71\n"
          ]
        },
        {
          "data": {
            "text/plain": [
              "{'move': 0, 'value': 1}"
            ]
          },
          "metadata": {},
          "output_type": "display_data"
        },
        {
          "name": "stdout",
          "output_type": "stream",
          "text": [
            "CPU times: total: 0 ns\n",
            "Wall time: 3.32 ms\n",
            "---------------------------------------\n",
            "Number of nodes searched (cutoff = 10): 14\n"
          ]
        },
        {
          "data": {
            "text/plain": [
              "{'move': 2, 'value': 0}"
            ]
          },
          "metadata": {},
          "output_type": "display_data"
        },
        {
          "name": "stdout",
          "output_type": "stream",
          "text": [
            "CPU times: total: 0 ns\n",
            "Wall time: 1.51 ms\n",
            "---------------------------------------\n",
            "Number of nodes searched (cutoff = 10): 2\n"
          ]
        },
        {
          "data": {
            "text/plain": [
              "{'move': 3, 'value': 0}"
            ]
          },
          "metadata": {},
          "output_type": "display_data"
        },
        {
          "name": "stdout",
          "output_type": "stream",
          "text": [
            "CPU times: total: 0 ns\n",
            "Wall time: 1.01 ms\n",
            "---------------------------------------\n",
            "Number of nodes searched (cutoff = 10): 5\n"
          ]
        },
        {
          "data": {
            "text/plain": [
              "{'move': 2, 'value': -1}"
            ]
          },
          "metadata": {},
          "output_type": "display_data"
        },
        {
          "name": "stdout",
          "output_type": "stream",
          "text": [
            "CPU times: total: 0 ns\n",
            "Wall time: 1.51 ms\n"
          ]
        }
      ],
      "source": [
        "board = [[0, 0, 0,-1],\n",
        "         [1,-1,-1, 1],\n",
        "         [1,-1,-1,-1],\n",
        "         [1, 1,-1, 1]]\n",
        "%time display(alpha_beta_search(board, 10, 1))\n",
        "print('---------------------------------------')\n",
        "\n",
        "board = [[0, 0, 0, 0],\n",
        "         [1,-1,-1, 0],\n",
        "         [1,-1,-1,-1],\n",
        "         [1, 1,-1, 1]]\n",
        "%time display(alpha_beta_search(board, 10, 1))\n",
        "print('---------------------------------------')\n",
        "\n",
        "board = [[-1, 0, 0, 0],\n",
        "         [ 1,-1,-1, 1],\n",
        "         [ 1,-1,-1,-1],\n",
        "         [ 1, 1,-1, 1]]\n",
        "%time display(alpha_beta_search(board, 10, 1))\n",
        "print('---------------------------------------')\n",
        "\n",
        "board = [[-1, 1, 1, 0],\n",
        "         [ 1,-1,-1, 1],\n",
        "         [ 1,-1,-1,-1],\n",
        "         [ 1,-1,-1, 1]]\n",
        "%time display(alpha_beta_search(board, 10, 1))\n",
        "print('---------------------------------------')\n",
        "\n",
        "board = [[ 0, 1, 0, 1],\n",
        "         [ 1,-1,-1, 1],\n",
        "         [ 1,-1,-1, 1],\n",
        "         [-1, 1,-1,-1]]\n",
        "%time display(alpha_beta_search(board, 10, 1))"
      ]
    },
    {
      "cell_type": "markdown",
      "metadata": {
        "id": "08pRc_m29_wE"
      },
      "source": [
        "How long does it take to make a move? Start with a smaller board with 4 columns and make the board larger by adding columns."
      ]
    },
    {
      "cell_type": "code",
      "execution_count": 314,
      "metadata": {
        "id": "5fZARdf79_wE"
      },
      "outputs": [
        {
          "name": "stdout",
          "output_type": "stream",
          "text": [
            "Number of nodes searched (cutoff = 8): 2816\n",
            "board 4x5: 0.43 seconds.\n",
            "Number of nodes searched (cutoff = 8): 8916\n",
            "board 5x6: 1.40 seconds.\n",
            "Number of nodes searched (cutoff = 8): 15369\n",
            "board 6x7: 3.58 seconds.\n"
          ]
        }
      ],
      "source": [
        "import time\n",
        "\n",
        "for size in [(4, 5), (5, 6), (6, 7)]:\n",
        "    board = empty_board(size)\n",
        "    start_time = time.time()\n",
        "    alpha_beta_search(board, 8, 1)\n",
        "    used_time = time.time() - start_time\n",
        "    print(f\"board {size[0]}x{size[1]}: {used_time:.2f} seconds.\")"
      ]
    },
    {
      "cell_type": "markdown",
      "metadata": {
        "id": "_D3So-cG9_wE"
      },
      "source": [
        "### Playtime [5 points]\n",
        "\n",
        "Let two heuristic search agents (different cutoff depth, different heuristic evaluation function) compete against each other on a reasonably sized board. Since there is no randomness, you only need to let them play once."
      ]
    },
    {
      "cell_type": "code",
      "execution_count": 370,
      "metadata": {
        "id": "nsA0IjfC9_wE"
      },
      "outputs": [
        {
          "data": {
            "text/plain": [
              "{1: 1, -1: 0, 0: 0}"
            ]
          },
          "execution_count": 370,
          "metadata": {},
          "output_type": "execute_result"
        }
      ],
      "source": [
        "DEBUG = 0\n",
        "\n",
        "# differenet evaluation function controlled by the second parameter.\n",
        "heuristic_agent1 = HeuristicAgent(8, True)\n",
        "heuristic_agent2 = HeuristicAgent(2, False)\n",
        "play(heuristic_agent1.act, random_player, 1, (5, 5))"
      ]
    },
    {
      "cell_type": "markdown",
      "metadata": {
        "id": "eKSuDP7x9_wI"
      },
      "source": [
        "## Challenge task [up to +10 bonus point will be awarded separately]\n",
        "\n",
        "Find another student and let your best agent play against the other student's best player. We will set up a class tournament on Canvas. This tournament will continue after the submission deadline."
      ]
    },
    {
      "cell_type": "markdown",
      "metadata": {
        "id": "wzXTZv639_wI"
      },
      "source": [
        "## Graduate student advanced task: Pure Monte Carlo Search and Best First Move [10 point]\n",
        "\n",
        "__Undergraduate students:__ This is a bonus task you can attempt if you like [+5 bonus point].\n",
        "\n",
        "### Pure Monte Carlo Search\n",
        "\n",
        "Implement Pure Monte Carlo Search and investigate how this search performs on the test boards that you have used above."
      ]
    },
    {
      "cell_type": "code",
      "execution_count": 376,
      "metadata": {
        "id": "u189giXd9_wI"
      },
      "outputs": [
        {
          "name": "stdout",
          "output_type": "stream",
          "text": [
            "1\n",
            "-1\n",
            "1\n",
            "-1\n",
            "1\n"
          ]
        }
      ],
      "source": [
        "def playout(state, action, player = 1):\n",
        "    \"\"\"Perfrom a random playout starting with the given action on the fiven board \n",
        "    and return the utility of the finished game.\"\"\"\n",
        "    state = result(state, player, action)\n",
        "    current_player = -1 * player\n",
        "    \n",
        "    while(True):\n",
        "        # reached terminal state?\n",
        "        u = utility(state, player)\n",
        "        if u is not None: return(u)\n",
        "        \n",
        "        # we use a random playout policy\n",
        "        a = np.random.choice(actions(state))\n",
        "        state = result(state, current_player, a)\n",
        "        #print(state)\n",
        "        \n",
        "        # switch between players\n",
        "        current_player = -1 * current_player\n",
        "\n",
        "\n",
        "# Playout for action 0 (top-left corner)\n",
        "board = empty_board()\n",
        "print(playout(board, 0))\n",
        "print(playout(board, 0))\n",
        "print(playout(board, 0))\n",
        "print(playout(board, 0))\n",
        "print(playout(board, 0))"
      ]
    },
    {
      "cell_type": "code",
      "execution_count": 381,
      "metadata": {},
      "outputs": [
        {
          "name": "stdout",
          "output_type": "stream",
          "text": [
            "Playout results: [-1, 1, 1, 1, 1, 1, 1, 1, 1, 1, -1, 1, 1, -1, -1, 1, 1, -1, -1, -1, -1, 1, 1, 1, 1, 1, -1, 1, 1, 1, 1, 1, 1, 1, 1, 1, -1, 1, -1, -1, 1, 1, 1, 1, -1, 1, 1, -1, -1, 1, -1, 1, 1, 1, 1, 1, -1, 1, 1, 1, 1, 1, 1, -1, -1, -1, 1, -1, -1, 1, -1, 1, -1, 1, 1, 1, -1, -1, 1, 1, 1, 1, 1, -1, -1, 1, -1, 1, 1, 1, -1, 1, 1, 1, -1, 1, 1, 1, -1, 1]\n",
            "mean utility: 0.36\n",
            "win probability: 0.68\n",
            "loss probability: 0.32\n",
            "draw probability: 0.0\n"
          ]
        }
      ],
      "source": [
        "def playouts(board, action, player = 1, N = 100):\n",
        "    \"\"\"Perform N playouts following the given action for the given board.\"\"\"\n",
        "    return [ playout(board, action, player) for i in range(N) ]\n",
        "\n",
        "u = playouts(board, 3)\n",
        "print(\"Playout results:\", u)\n",
        "\n",
        "print(f\"mean utility: {np.mean(u)}\")\n",
        "\n",
        "p_win = sum(np.array(u) == +1)/len(u)\n",
        "p_loss = sum(np.array(u) == -1)/len(u)\n",
        "p_draw = sum(np.array(u) == 0)/len(u)\n",
        "print(f\"win probability: {p_win}\")\n",
        "print(f\"loss probability: {p_loss}\")\n",
        "print(f\"draw probability: {p_draw}\")"
      ]
    },
    {
      "cell_type": "code",
      "execution_count": 382,
      "metadata": {},
      "outputs": [
        {
          "data": {
            "text/plain": [
              "array([[0, 0, 0, 0, 0, 0, 0],\n",
              "       [0, 0, 0, 0, 0, 0, 0],\n",
              "       [0, 0, 0, 0, 0, 0, 0],\n",
              "       [0, 0, 0, 0, 0, 0, 0],\n",
              "       [0, 0, 0, 0, 0, 0, 0],\n",
              "       [0, 0, 0, 0, 0, 0, 0]], dtype=int8)"
            ]
          },
          "metadata": {},
          "output_type": "display_data"
        },
        {
          "name": "stdout",
          "output_type": "stream",
          "text": [
            "Actions: [5, 3, 1, 6, 4, 2, 0] (100 total playouts = 14 playouts per action)\n"
          ]
        },
        {
          "data": {
            "text/plain": [
              "{5: 0.0,\n",
              " 3: 0.2857142857142857,\n",
              " 1: 0.14285714285714285,\n",
              " 6: 0.14285714285714285,\n",
              " 4: 0.7142857142857143,\n",
              " 2: 0.2857142857142857,\n",
              " 0: 0.14285714285714285}"
            ]
          },
          "metadata": {},
          "output_type": "display_data"
        },
        {
          "name": "stdout",
          "output_type": "stream",
          "text": [
            "4\n",
            "CPU times: total: 31.2 ms\n",
            "Wall time: 324 ms\n",
            "\n",
            "10000 playouts give a better utility estimate.\n",
            "Actions: [5, 3, 1, 6, 4, 2, 0] (10000 total playouts = 1428 playouts per action)\n"
          ]
        },
        {
          "data": {
            "text/plain": [
              "{5: 0.12394957983193278,\n",
              " 3: 0.3067226890756303,\n",
              " 1: 0.055322128851540614,\n",
              " 6: 0.03571428571428571,\n",
              " 4: 0.14775910364145659,\n",
              " 2: 0.1211484593837535,\n",
              " 0: -0.0273109243697479}"
            ]
          },
          "metadata": {},
          "output_type": "display_data"
        },
        {
          "name": "stdout",
          "output_type": "stream",
          "text": [
            "3\n",
            "CPU times: total: 6.22 s\n",
            "Wall time: 31.2 s\n"
          ]
        }
      ],
      "source": [
        "DEBUG = 1\n",
        "\n",
        "\n",
        "def pmcs(board, N = 100, player = 1):\n",
        "    \"\"\"Pure Monte Carlo Search. Returns the action that has the largest average utility.\n",
        "    The N playouts are evenly divided between the possible actions.\"\"\"\n",
        "    global DEBUG\n",
        "    \n",
        "    acts = actions(board)\n",
        "    n = math.floor(N/len(acts))\n",
        "    if DEBUG >= 1: print(f\"Actions: {acts} ({N} total playouts = {n} playouts per action)\")\n",
        "    \n",
        "    ps = { i : np.mean(playouts(board, i, player, N = n)) for i in acts }\n",
        "    if DEBUG >= 1: display(ps)\n",
        "        \n",
        "    action = max(ps, key=ps.get)\n",
        "    return action\n",
        "\n",
        "board = empty_board()\n",
        "display(board)\n",
        "%time print(pmcs(board))\n",
        "\n",
        "print()\n",
        "print(\"10000 playouts give a better utility estimate.\")\n",
        "%time print(pmcs(board, N = 10000))"
      ]
    },
    {
      "cell_type": "code",
      "execution_count": 384,
      "metadata": {},
      "outputs": [
        {
          "name": "stdout",
          "output_type": "stream",
          "text": [
            "Actions: [1, 2, 0] (100 total playouts = 33 playouts per action)\n"
          ]
        },
        {
          "data": {
            "text/plain": [
              "{1: -0.45454545454545453, 2: 0.3939393939393939, 0: 1.0}"
            ]
          },
          "metadata": {},
          "output_type": "display_data"
        },
        {
          "data": {
            "text/plain": [
              "0"
            ]
          },
          "metadata": {},
          "output_type": "display_data"
        },
        {
          "name": "stdout",
          "output_type": "stream",
          "text": [
            "CPU times: total: 0 ns\n",
            "Wall time: 7.69 ms\n",
            "--------------------------------------------------------------\n",
            "Actions: [3, 1, 2, 0] (100 total playouts = 25 playouts per action)\n"
          ]
        },
        {
          "data": {
            "text/plain": [
              "{3: -0.24, 1: -0.64, 2: 0.52, 0: 1.0}"
            ]
          },
          "metadata": {},
          "output_type": "display_data"
        },
        {
          "data": {
            "text/plain": [
              "0"
            ]
          },
          "metadata": {},
          "output_type": "display_data"
        },
        {
          "name": "stdout",
          "output_type": "stream",
          "text": [
            "CPU times: total: 0 ns\n",
            "Wall time: 9.54 ms\n",
            "--------------------------------------------------------------\n",
            "Actions: [3, 1, 2] (100 total playouts = 33 playouts per action)\n"
          ]
        },
        {
          "data": {
            "text/plain": [
              "{3: -0.48484848484848486, 1: -0.45454545454545453, 2: 0.0}"
            ]
          },
          "metadata": {},
          "output_type": "display_data"
        },
        {
          "data": {
            "text/plain": [
              "2"
            ]
          },
          "metadata": {},
          "output_type": "display_data"
        },
        {
          "name": "stdout",
          "output_type": "stream",
          "text": [
            "CPU times: total: 0 ns\n",
            "Wall time: 9.52 ms\n",
            "--------------------------------------------------------------\n",
            "Actions: [3] (100 total playouts = 100 playouts per action)\n"
          ]
        },
        {
          "data": {
            "text/plain": [
              "{3: 0.0}"
            ]
          },
          "metadata": {},
          "output_type": "display_data"
        },
        {
          "data": {
            "text/plain": [
              "3"
            ]
          },
          "metadata": {},
          "output_type": "display_data"
        },
        {
          "name": "stdout",
          "output_type": "stream",
          "text": [
            "CPU times: total: 0 ns\n",
            "Wall time: 4 ms\n",
            "--------------------------------------------------------------\n",
            "Actions: [2, 0] (100 total playouts = 50 playouts per action)\n"
          ]
        },
        {
          "data": {
            "text/plain": [
              "{2: -1.0, 0: -1.0}"
            ]
          },
          "metadata": {},
          "output_type": "display_data"
        },
        {
          "data": {
            "text/plain": [
              "2"
            ]
          },
          "metadata": {},
          "output_type": "display_data"
        },
        {
          "name": "stdout",
          "output_type": "stream",
          "text": [
            "CPU times: total: 0 ns\n",
            "Wall time: 5.51 ms\n"
          ]
        }
      ],
      "source": [
        "board = [[0, 0, 0,-1],\n",
        "         [1,-1,-1, 1],\n",
        "         [1,-1,-1,-1],\n",
        "         [1, 1,-1, 1]]\n",
        "%time display(pmcs(board, 100, 1))\n",
        "print('--------------------------------------------------------------')\n",
        "\n",
        "board = [[0, 0, 0, 0],\n",
        "         [1,-1,-1, 0],\n",
        "         [1,-1,-1,-1],\n",
        "         [1, 1,-1, 1]]\n",
        "%time display(pmcs(board, 100, 1))\n",
        "print('--------------------------------------------------------------')\n",
        "\n",
        "board = [[-1, 0, 0, 0],\n",
        "         [ 1,-1,-1, 1],\n",
        "         [ 1,-1,-1,-1],\n",
        "         [ 1, 1,-1, 1]]\n",
        "%time display(pmcs(board, 100, 1))\n",
        "print('--------------------------------------------------------------')\n",
        "\n",
        "board = [[-1, 1, 1, 0],\n",
        "         [ 1,-1,-1, 1],\n",
        "         [ 1,-1,-1,-1],\n",
        "         [ 1,-1,-1, 1]]\n",
        "%time display(pmcs(board, 100, 1))\n",
        "print('--------------------------------------------------------------')\n",
        "\n",
        "board = [[ 0, 1, 0, 1],\n",
        "         [ 1,-1,-1, 1],\n",
        "         [ 1,-1,-1, 1],\n",
        "         [-1, 1,-1,-1]]\n",
        "%time display(pmcs(board, 100, 1))"
      ]
    },
    {
      "cell_type": "markdown",
      "metadata": {
        "id": "2Pz9zg-69_wI"
      },
      "source": [
        "### Best First Move\n",
        "\n",
        "Use Oure Monte Carlo Search to determine what the best first move is? Describe under what assumptions this is the \"best\" first move.  "
      ]
    },
    {
      "cell_type": "code",
      "execution_count": 387,
      "metadata": {
        "id": "fuwIJyfh9_wI"
      },
      "outputs": [
        {
          "name": "stdout",
          "output_type": "stream",
          "text": [
            "Actions: [5, 3, 1, 6, 4, 2, 0] (5000 total playouts = 714 playouts per action)\n"
          ]
        },
        {
          "data": {
            "text/plain": [
              "{5: 0.07983193277310924,\n",
              " 3: 0.2689075630252101,\n",
              " 1: 0.08403361344537816,\n",
              " 6: 0.0056022408963585435,\n",
              " 4: 0.14145658263305322,\n",
              " 2: 0.17647058823529413,\n",
              " 0: -0.00980392156862745}"
            ]
          },
          "metadata": {},
          "output_type": "display_data"
        },
        {
          "data": {
            "text/plain": [
              "3"
            ]
          },
          "execution_count": 387,
          "metadata": {},
          "output_type": "execute_result"
        }
      ],
      "source": [
        "# Your code/ answer goes here.\n",
        "board = empty_board()\n",
        "pmcs(board, 5000, 1)"
      ]
    },
    {
      "cell_type": "markdown",
      "metadata": {},
      "source": [
        "Based on the seach above, the best first move is 3. This is in the middle and it makes sense because the player can expand to both left and right. Also, this move makes the other player difficult to defense."
      ]
    }
  ],
  "metadata": {
    "colab": {
      "provenance": []
    },
    "kernelspec": {
      "display_name": "Python 3 (ipykernel)",
      "language": "python",
      "name": "python3"
    },
    "language_info": {
      "codemirror_mode": {
        "name": "ipython",
        "version": 3
      },
      "file_extension": ".py",
      "mimetype": "text/x-python",
      "name": "python",
      "nbconvert_exporter": "python",
      "pygments_lexer": "ipython3",
      "version": "3.11.5"
    }
  },
  "nbformat": 4,
  "nbformat_minor": 0
}
